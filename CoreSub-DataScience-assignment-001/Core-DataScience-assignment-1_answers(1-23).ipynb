{
 "cells": [
  {
   "cell_type": "markdown",
   "id": "690f1ccc-3bd5-421d-85a6-504bd9306559",
   "metadata": {},
   "source": [
    "# CORE SUBJECT - DATA SCIENCE - ASSIGN 1 (Q1 TO Q23)"
   ]
  },
  {
   "cell_type": "markdown",
   "id": "41c067fb-eb28-4b90-aefa-22c74d984d76",
   "metadata": {},
   "source": [
    "### Q1. Write a Python program to reverse a string without using any built-in string reversal functions."
   ]
  },
  {
   "cell_type": "code",
   "execution_count": 52,
   "id": "4b91442a-11f6-4699-add3-1186c3dce086",
   "metadata": {},
   "outputs": [
    {
     "name": "stdout",
     "output_type": "stream",
     "text": [
      "The reversed string is: !DLROW ECNEICS ATAD OT EMOCLEW\n"
     ]
    }
   ],
   "source": [
    "def reverse_string(string):\n",
    "\n",
    "\n",
    "  reversed_string = \"\"\n",
    "  for i in range(len(string) - 1, -1, -1):\n",
    "    reversed_string += string[i]\n",
    "  return reversed_string\n",
    "\n",
    "\n",
    "if __name__ == \"__main__\":\n",
    "  string = \"WELCOME TO DATA SCIENCE WORLD!\"\n",
    "  reversed_string = reverse_string(string)\n",
    "  print(f\"The reversed string is: {reversed_string}\")\n"
   ]
  },
  {
   "cell_type": "markdown",
   "id": "1cec9a0c-aea2-4a3b-9a0e-532e94d8e29d",
   "metadata": {},
   "source": [
    "### Q2 Implement a function to check if a given string is a palindrome.\n"
   ]
  },
  {
   "cell_type": "code",
   "execution_count": 53,
   "id": "b35d9227-9d38-40ed-84e5-1763a739e5e7",
   "metadata": {},
   "outputs": [
    {
     "name": "stdout",
     "output_type": "stream",
     "text": [
      "Is level a palindrome? True\n"
     ]
    }
   ],
   "source": [
    "def is_palindrome(string):\n",
    " \n",
    "  reversed_string = \"\"\n",
    "  for i in range(len(string) - 1, -1, -1):\n",
    "    reversed_string += string[i]\n",
    "  return string == reversed_string\n",
    "\n",
    "\n",
    "if __name__ == \"__main__\":\n",
    "  string = \"level\"\n",
    "  print(f\"Is {string} a palindrome? {is_palindrome(string)}\")\n"
   ]
  },
  {
   "cell_type": "markdown",
   "id": "785ba4a4-b4ee-4493-98ff-40c999e5d36b",
   "metadata": {},
   "source": [
    "### Q3 Write a program to find the largest element in a given list.\n"
   ]
  },
  {
   "cell_type": "code",
   "execution_count": 54,
   "id": "bd493ef9-0c87-4b33-9ce9-4d691c303803",
   "metadata": {},
   "outputs": [
    {
     "name": "stdout",
     "output_type": "stream",
     "text": [
      "The largest element in the list is 101\n"
     ]
    }
   ],
   "source": [
    "def find_largest_element(list_of_numbers):\n",
    "\n",
    "  largest_element = list_of_numbers[0]\n",
    "  for number in list_of_numbers:\n",
    "    if number > largest_element:\n",
    "      largest_element = number\n",
    "  return largest_element\n",
    "\n",
    "\n",
    "if __name__ == \"__main__\":\n",
    "  list_of_numbers = [101, 42, 23, 94, 75, 56, 17, 38, 69, 80]\n",
    "  largest_element = find_largest_element(list_of_numbers)\n",
    "  print(f\"The largest element in the list is {largest_element}\")\n"
   ]
  },
  {
   "cell_type": "markdown",
   "id": "7f058945-7c2f-45f4-97e9-d6e7ecfe23f0",
   "metadata": {},
   "source": [
    "### Q4 Implement a function to count the occurrence of each element in a list\n"
   ]
  },
  {
   "cell_type": "code",
   "execution_count": 55,
   "id": "6a358d95-f5a2-4aab-8ada-42ebdb93cd03",
   "metadata": {},
   "outputs": [
    {
     "name": "stdout",
     "output_type": "stream",
     "text": [
      "The occurrence counts are: {10: 3, 21: 3, 32: 2, 43: 1, 54: 1}\n"
     ]
    }
   ],
   "source": [
    "def count_occurrences(list_of_elements):\n",
    "\n",
    "\n",
    "  occur_counts = {}\n",
    "  for element in list_of_elements:\n",
    "    if element in occur_counts:\n",
    "      occur_counts[element] += 1\n",
    "    else:\n",
    "      occur_counts[element] = 1\n",
    "  return occur_counts\n",
    "\n",
    "\n",
    "if __name__ == \"__main__\":\n",
    "  list_of_elements = [10, 21, 32, 10, 21, 32, 43, 54, 10, 21]\n",
    "  occur_counts = count_occurrences(list_of_elements)\n",
    "  print(f\"The occurrence counts are: {occur_counts}\")\n"
   ]
  },
  {
   "cell_type": "markdown",
   "id": "34e3f45d-917b-49ee-a842-d19a074e2762",
   "metadata": {},
   "source": [
    "### Q5 Write a Python program to find the second largest number in a list.\n",
    "\n"
   ]
  },
  {
   "cell_type": "code",
   "execution_count": 56,
   "id": "05ba6f6c-7c41-43da-8989-6198ee00e894",
   "metadata": {},
   "outputs": [
    {
     "name": "stdout",
     "output_type": "stream",
     "text": [
      "The second largest element in the list is 39\n"
     ]
    }
   ],
   "source": [
    "def find_second_largest_number(list_of_numbers):\n",
    "  \n",
    "\n",
    "  list_of_numbers.sort(reverse=True)\n",
    "  second_largest_number = list_of_numbers[1]\n",
    "  return second_largest_number\n",
    "\n",
    "\n",
    "if __name__ == \"__main__\":\n",
    "  list_of_numbers = [100, 4, 2, 39, 7, 5, 1, 3, 6, 8]\n",
    "  second_largest_number = find_second_largest_number(list_of_numbers)\n",
    "  print(f\"The second largest element in the list is {second_largest_number}\")\n"
   ]
  },
  {
   "cell_type": "markdown",
   "id": "2f1c8334-3a1c-4890-a879-163fefb181de",
   "metadata": {},
   "source": [
    "### Q6 Implement a function to remove duplicate elements from a list.\n"
   ]
  },
  {
   "cell_type": "code",
   "execution_count": 57,
   "id": "dd0b79fe-1aaf-4794-959e-d6be251b1309",
   "metadata": {},
   "outputs": [
    {
     "name": "stdout",
     "output_type": "stream",
     "text": [
      "The new list without duplicates is: [12, 23, 34, 45, 56]\n"
     ]
    }
   ],
   "source": [
    "def remove_duplicates(list_of_elements):\n",
    " \n",
    "\n",
    "  new_list = []\n",
    "  seen_elements = set()\n",
    "  for element in list_of_elements:\n",
    "    if element not in seen_elements:\n",
    "      new_list.append(element)\n",
    "      seen_elements.add(element)\n",
    "  return new_list\n",
    "\n",
    "\n",
    "if __name__ == \"__main__\":\n",
    "  list_of_elements = [12, 23, 34, 12, 23, 34, 45, 56, 12, 23]\n",
    "  new_list = remove_duplicates(list_of_elements)\n",
    "  print(f\"The new list without duplicates is: {new_list}\")\n"
   ]
  },
  {
   "cell_type": "markdown",
   "id": "780b71aa-869a-4b27-858b-4ebbad3627a8",
   "metadata": {},
   "source": [
    "### Q7 Write a program to calculate the factorial of a given number.\n"
   ]
  },
  {
   "cell_type": "code",
   "execution_count": 58,
   "id": "cbc8bb40-52ed-45d9-9c76-60757e397755",
   "metadata": {},
   "outputs": [
    {
     "name": "stdout",
     "output_type": "stream",
     "text": [
      "The factorial of 4 is 24\n"
     ]
    }
   ],
   "source": [
    "def factorial(number):\n",
    "\n",
    "  if number == 0:\n",
    "    return 1\n",
    "  else:\n",
    "    return number * factorial(number - 1)\n",
    "\n",
    "\n",
    "if __name__ == \"__main__\":\n",
    "  number = 4\n",
    "\n",
    "  factorial_of_number = factorial(number)\n",
    "  print(f\"The factorial of {number} is {factorial_of_number}\")\n"
   ]
  },
  {
   "cell_type": "markdown",
   "id": "c353542d-2962-4128-aa7a-e7fc20e551be",
   "metadata": {},
   "source": [
    "### Q8 Implement a function to check if a given number is prime.\n",
    "\n"
   ]
  },
  {
   "cell_type": "code",
   "execution_count": 59,
   "id": "f2852b84-27a3-42f6-9468-7e9b877d3aaf",
   "metadata": {},
   "outputs": [
    {
     "name": "stdout",
     "output_type": "stream",
     "text": [
      "Is 79 a prime number? True\n"
     ]
    }
   ],
   "source": [
    "def is_prime(number):\n",
    "\n",
    "\n",
    "  if number <= 1:\n",
    "    return False\n",
    "  for i in range(2, int(number ** 0.5) + 1):\n",
    "    if number % i == 0:\n",
    "      return False\n",
    "  return True\n",
    "\n",
    "\n",
    "if __name__ == \"__main__\":\n",
    "  number = 79\n",
    "  is_prime_number = is_prime(number)\n",
    "  print(f\"Is {number} a prime number? {is_prime_number}\")\n"
   ]
  },
  {
   "cell_type": "markdown",
   "id": "ab2258fd-038f-4f24-ad0b-99fdaf5a194c",
   "metadata": {},
   "source": [
    "### Q9 Write a Python program to sort a list of integers in ascending order."
   ]
  },
  {
   "cell_type": "code",
   "execution_count": 60,
   "id": "57bc8da4-cd02-47a6-948c-bd41f1eac6e1",
   "metadata": {},
   "outputs": [
    {
     "name": "stdout",
     "output_type": "stream",
     "text": [
      "The sorted list is: [10, 12, 23, 34, 45, 56, 67, 78, 89, 90]\n"
     ]
    }
   ],
   "source": [
    "def sort_list(list_of_numbers):\n",
    " \n",
    "  for i in range(len(list_of_numbers)):\n",
    "    for j in range(i + 1, len(list_of_numbers)):\n",
    "      if list_of_numbers[i] > list_of_numbers[j]:\n",
    "        list_of_numbers[i], list_of_numbers[j] = list_of_numbers[j], list_of_numbers[i]\n",
    "  return list_of_numbers\n",
    "\n",
    "\n",
    "if __name__ == \"__main__\":\n",
    "  list_of_numbers = [10, 45, 23, 90, 78, 56,12, 34, 67, 89]\n",
    "  sorted_list = sort_list(list_of_numbers)\n",
    "  print(f\"The sorted list is: {sorted_list}\")\n"
   ]
  },
  {
   "cell_type": "markdown",
   "id": "d9aab5eb-f5d6-4d65-8b81-567294f63662",
   "metadata": {},
   "source": [
    "### Q10 Implement a function to find the sum of all numbers in a list."
   ]
  },
  {
   "cell_type": "code",
   "execution_count": 61,
   "id": "eeb2aee5-a6c0-4274-84b1-7e489ee5b8c4",
   "metadata": {},
   "outputs": [
    {
     "name": "stdout",
     "output_type": "stream",
     "text": [
      "The sum of all numbers in the list is: 55\n"
     ]
    }
   ],
   "source": [
    "def find_sum_of_list(list_of_numbers):\n",
    "  \n",
    "\n",
    "  sum_numbers = 0\n",
    "  for number in list_of_numbers:\n",
    "    sum_numbers += number\n",
    "  return sum_numbers\n",
    "\n",
    "\n",
    "if __name__ == \"__main__\":\n",
    "  list_of_numbers = [10, 4, 2, 9, 7, 5, 1, 3, 6, 8]\n",
    "  sum_numbers = find_sum_of_list(list_of_numbers)\n",
    "  print(f\"The sum of all numbers in the list is: {sum_numbers}\")\n"
   ]
  },
  {
   "cell_type": "markdown",
   "id": "3d00bce9-05fb-4536-8f39-3992b1d9ef57",
   "metadata": {},
   "source": [
    "### Q11 Write a program to find the common elements between two lists"
   ]
  },
  {
   "cell_type": "code",
   "execution_count": 62,
   "id": "abc36f50-60b2-4ebe-995d-16b2a649fb07",
   "metadata": {},
   "outputs": [
    {
     "name": "stdout",
     "output_type": "stream",
     "text": [
      "The common elements between the two lists are: [23, 34, 56]\n"
     ]
    }
   ],
   "source": [
    "def find_common_elements(list1, list2):\n",
    "\n",
    "  common_elements = []\n",
    "  for element in list1:\n",
    "    if element in list2:\n",
    "      common_elements.append(element)\n",
    "  return common_elements\n",
    "\n",
    "\n",
    "if __name__ == \"__main__\":\n",
    "  list1 = [12, 23, 34, 45, 56]\n",
    "  list2 = [23, 34, 56, 67, 78]\n",
    "  common_elements = find_common_elements(list1, list2)\n",
    "  print(f\"The common elements between the two lists are: {common_elements}\")\n"
   ]
  },
  {
   "cell_type": "markdown",
   "id": "8c549e5a-c3dc-41c3-b20e-193def42e496",
   "metadata": {},
   "source": [
    "### Q12 Implement a function to check if a given string is an anagram of another string."
   ]
  },
  {
   "cell_type": "code",
   "execution_count": 63,
   "id": "d1d874c4-3402-44d0-9f19-292d49c06409",
   "metadata": {},
   "outputs": [
    {
     "name": "stdout",
     "output_type": "stream",
     "text": [
      "Are the two strings anagrams? False\n"
     ]
    }
   ],
   "source": [
    "# anagram means that another string that contains the same characters, only the order of characters can be different. \n",
    "# For example, “abcd” and “dabc” are an anagram of each other. \n",
    "\n",
    "\n",
    "\n",
    "def is_anagram(string1, string2):\n",
    "\n",
    "\n",
    "  if len(string1) != len(string2):\n",
    "    return False\n",
    "  character_counts = {}\n",
    "  for character in string1:\n",
    "    if character in character_counts:\n",
    "      character_counts[character] += 1\n",
    "    else:\n",
    "      character_counts[character] = 1\n",
    "  for character in string2:\n",
    "    if character not in character_counts:\n",
    "      return False\n",
    "    else:\n",
    "      character_counts[character] -= 1\n",
    "  for count in character_counts.values():\n",
    "    if count != 0:\n",
    "      return False\n",
    "  return True\n",
    "\n",
    "\n",
    "if __name__ == \"__main__\":\n",
    "  string1 = \"madam\"\n",
    "  string2 = \"adam\"\n",
    "  is_anagram_result = is_anagram(string1, string2)\n",
    "  print(f\"Are the two strings anagrams? {is_anagram_result}\")\n"
   ]
  },
  {
   "cell_type": "markdown",
   "id": "e4f35aa9-dade-495d-ba24-f2deb08f3b11",
   "metadata": {},
   "source": [
    "### Q13 Write a Python program to generate all permutations of a given string."
   ]
  },
  {
   "cell_type": "code",
   "execution_count": 64,
   "id": "46bd024b-01ab-496d-baa5-da48607460a0",
   "metadata": {},
   "outputs": [
    {
     "name": "stdout",
     "output_type": "stream",
     "text": [
      "abp\n",
      "apb\n",
      "bap\n",
      "bpa\n",
      "pab\n",
      "pba\n"
     ]
    }
   ],
   "source": [
    "def generate_permutations(string):\n",
    "\n",
    "  if len(string) == 0:\n",
    "    yield \"\"\n",
    "  else:\n",
    "    for i in range(len(string)):\n",
    "      remaining_string = string[0:i] + string[i + 1:]\n",
    "      for permutation in generate_permutations(remaining_string):\n",
    "        yield string[i] + permutation\n",
    "\n",
    "\n",
    "if __name__ == \"__main__\":\n",
    "  string = \"abp\"\n",
    "  for permutation in generate_permutations(string):\n",
    "    print(permutation)\n"
   ]
  },
  {
   "cell_type": "markdown",
   "id": "03e2e692-dc03-4c9a-89e5-71904b16a319",
   "metadata": {},
   "source": [
    "### Q14  Implement a function to calculate the Fibonacci sequence up to a given number of terms."
   ]
  },
  {
   "cell_type": "code",
   "execution_count": 65,
   "id": "688157c8-7107-44b5-a539-243610329fc0",
   "metadata": {},
   "outputs": [
    {
     "name": "stdout",
     "output_type": "stream",
     "text": [
      "The Fibonacci sequence up to 10 terms is: [0, 1, 1, 2, 3, 5, 8, 13, 21, 34]\n"
     ]
    }
   ],
   "source": [
    "def fibonacci(n):\n",
    " \n",
    "  if n == 0:\n",
    "    return []\n",
    "  elif n == 1:\n",
    "    return [0]\n",
    "  else:\n",
    "    fibonacci_numbers = [0, 1]\n",
    "    for i in range(2, n):\n",
    "      fibonacci_numbers.append(fibonacci_numbers[i - 1] + fibonacci_numbers[i - 2])\n",
    "    return fibonacci_numbers\n",
    "\n",
    "\n",
    "if __name__ == \"__main__\":\n",
    "  n = 10\n",
    "  fibonacci_numbers = fibonacci(n)\n",
    "  print(f\"The Fibonacci sequence up to {n} terms is: {fibonacci_numbers}\")\n"
   ]
  },
  {
   "cell_type": "markdown",
   "id": "a78ed638-9060-4465-bda2-9f1e443b5b4b",
   "metadata": {},
   "source": [
    "### Q15  Write a program to find the median of a list of numbers.\n",
    "\n"
   ]
  },
  {
   "cell_type": "code",
   "execution_count": 66,
   "id": "76a4c71e-3e06-48bd-95ee-0893fcce034b",
   "metadata": {},
   "outputs": [
    {
     "name": "stdout",
     "output_type": "stream",
     "text": [
      "The median of the list is 3\n"
     ]
    }
   ],
   "source": [
    "def find_median(list_of_numbers):\n",
    " \n",
    "\n",
    "  list_of_numbers.sort()\n",
    "  if len(list_of_numbers) % 2 == 0:\n",
    "    # The list has an even number of elements, so the median is the average\n",
    "    # of the two middle elements.\n",
    "    median = (list_of_numbers[len(list_of_numbers) // 2] +\n",
    "              list_of_numbers[len(list_of_numbers) // 2 - 1]) / 2\n",
    "  else:\n",
    "    # The list has an odd number of elements, so the median is the middle\n",
    "    # element.\n",
    "    median = list_of_numbers[len(list_of_numbers) // 2]\n",
    "  return median\n",
    "\n",
    "\n",
    "if __name__ == \"__main__\":\n",
    "  list_of_numbers = [1, 3, 2, 5, 4]\n",
    "  median = find_median(list_of_numbers)\n",
    "  print(f\"The median of the list is {median}\")\n"
   ]
  },
  {
   "cell_type": "markdown",
   "id": "3efeff47-7a17-49ee-a3fc-3c686cd2b4c3",
   "metadata": {},
   "source": [
    "### Q16  Implement a function to check if a given list is sorted in non-decreasing order.\n",
    "\n",
    "\n"
   ]
  },
  {
   "cell_type": "code",
   "execution_count": 67,
   "id": "5ed2b2a7-9721-4b16-88de-07386dbac564",
   "metadata": {},
   "outputs": [
    {
     "name": "stdout",
     "output_type": "stream",
     "text": [
      "Is the list sorted in non-decreasing order? False\n"
     ]
    }
   ],
   "source": [
    "def is_sorted_non_decreasing(list_of_numbers):\n",
    "\n",
    "  for i in range(len(list_of_numbers) - 1):\n",
    "    if list_of_numbers[i] > list_of_numbers[i + 1]:\n",
    "      return False\n",
    "  return True\n",
    "\n",
    "\n",
    "if __name__ == \"__main__\":\n",
    "  list_of_numbers = [1, 2, 39, 4, 5]\n",
    "  is_sorted_result = is_sorted_non_decreasing(list_of_numbers)\n",
    "  print(f\"Is the list sorted in non-decreasing order? {is_sorted_result}\")\n"
   ]
  },
  {
   "cell_type": "markdown",
   "id": "5babdfc1-4dfc-41ed-9c73-8fd7ba3e3537",
   "metadata": {},
   "source": [
    "### Q17 Write a Python program to find the intersection of two lists."
   ]
  },
  {
   "cell_type": "code",
   "execution_count": 68,
   "id": "24d69b5e-3a3f-4598-a5c3-11cf7cbeac5f",
   "metadata": {},
   "outputs": [
    {
     "name": "stdout",
     "output_type": "stream",
     "text": [
      "The intersection of the two lists is: [2, 3, 5]\n"
     ]
    }
   ],
   "source": [
    "def find_intersection(list1, list2):\n",
    "\n",
    "  intersection = []\n",
    "  for element in list1:\n",
    "    if element in list2:\n",
    "      intersection.append(element)\n",
    "  return intersection\n",
    "\n",
    "\n",
    "if __name__ == \"__main__\":\n",
    "  list1 = [1, 2, 3, 4, 5]\n",
    "  list2 = [2, 3, 5, 6, 7]\n",
    "  intersection = find_intersection(list1, list2)\n",
    "  print(f\"The intersection of the two lists is: {intersection}\")\n"
   ]
  },
  {
   "cell_type": "markdown",
   "id": "0eff277d-3ebb-4bb9-b283-58a0aa89137d",
   "metadata": {},
   "source": [
    "### Q18 Implement a function to find the maximum subarray sum in a given list.\n",
    "\n",
    "\n"
   ]
  },
  {
   "cell_type": "code",
   "execution_count": 69,
   "id": "8c35ec16-4baf-4949-a899-266f0b2762cc",
   "metadata": {},
   "outputs": [
    {
     "name": "stdout",
     "output_type": "stream",
     "text": [
      "The maximum subarray sum is 16\n"
     ]
    }
   ],
   "source": [
    "def find_maximum_subarray_sum(list_of_numbers):\n",
    "\n",
    "  max_ending_here = 0\n",
    "  max_so_far = float(\"-inf\")\n",
    "  for number in list_of_numbers:\n",
    "    max_ending_here = max(max_ending_here + number, number)\n",
    "    if max_ending_here > max_so_far:\n",
    "      max_so_far = max_ending_here\n",
    "  return max_so_far\n",
    "\n",
    "\n",
    "if __name__ == \"__main__\":\n",
    "  list_of_numbers = [1, 2, -3, 4, -1, 6, 7, -2]\n",
    "  maximum_subarray_sum = find_maximum_subarray_sum(list_of_numbers)\n",
    "  print(f\"The maximum subarray sum is {maximum_subarray_sum}\")\n"
   ]
  },
  {
   "cell_type": "markdown",
   "id": "112b7d5d-0af0-41e4-b16c-807b4a21face",
   "metadata": {},
   "source": [
    "### Q19 Write a program to remove all vowels from a given string.\n",
    "\n",
    "\n"
   ]
  },
  {
   "cell_type": "code",
   "execution_count": 70,
   "id": "f3fa86b0-b183-49b1-94a8-0a83fbded1b1",
   "metadata": {},
   "outputs": [
    {
     "name": "stdout",
     "output_type": "stream",
     "text": [
      "The string without any vowels is: hll wrld !  Th qck brwn fx jmps vr th lzy dg...\n"
     ]
    }
   ],
   "source": [
    "def remove_vowels(string):\n",
    "\n",
    "  vowels = \"aeiouAEIOU\"\n",
    "  new_string = \"\"\n",
    "  for character in string:\n",
    "    if character not in vowels:\n",
    "      new_string += character\n",
    "  return new_string\n",
    "\n",
    "\n",
    "if __name__ == \"__main__\":\n",
    "  string = \"hello world !  The quick brown fox jumps over the lazy dog...\"\n",
    "  new_string = remove_vowels(string)\n",
    "  print(f\"The string without any vowels is: {new_string}\")\n"
   ]
  },
  {
   "cell_type": "markdown",
   "id": "b618f150-e5aa-45ca-abab-a78ac74ca92b",
   "metadata": {},
   "source": [
    "### Q20 Implement a function to reverse the order of words in a given sentence."
   ]
  },
  {
   "cell_type": "code",
   "execution_count": 71,
   "id": "0ea1371a-cc99-4597-b43d-2943049c699c",
   "metadata": {},
   "outputs": [
    {
     "name": "stdout",
     "output_type": "stream",
     "text": [
      "The reversed sentence is:  science data gupta khushi , world hello\n"
     ]
    }
   ],
   "source": [
    "def reverse_words(sentence):\n",
    "\n",
    "  words = sentence.split(\" \")\n",
    "  reversed_words = []\n",
    "  for word in words[::-1]:\n",
    "    reversed_words.append(word)\n",
    "  return \" \".join(reversed_words)\n",
    "\n",
    "\n",
    "if __name__ == \"__main__\":\n",
    "  sentence = \"hello world , khushi gupta data science \"\n",
    "  reversed_sentence = reverse_words(sentence)\n",
    "  print(f\"The reversed sentence is: {reversed_sentence}\")"
   ]
  },
  {
   "cell_type": "markdown",
   "id": "7067039b-da6a-4537-973a-ff7412b41f2b",
   "metadata": {},
   "source": [
    "### Q21 Write a Python program to check if two strings are anagrams of each other.\n",
    "\n"
   ]
  },
  {
   "cell_type": "code",
   "execution_count": 72,
   "id": "11a85d7f-6c28-4380-9e75-8c34e1b93d93",
   "metadata": {},
   "outputs": [
    {
     "name": "stdout",
     "output_type": "stream",
     "text": [
      "Are the two strings anagrams? False\n"
     ]
    }
   ],
   "source": [
    "# SAME AS Q12 IN THIS ASSIGNMENT\n",
    "\n",
    "\n",
    "# anagram means that another string that contains the same characters, only the order of characters can be different. \n",
    "# For example, “abcd” and “dabc” are an anagram of each other. \n",
    "\n",
    "def is_anagram(string1, string2):\n",
    "\n",
    "\n",
    "  if len(string1) != len(string2):\n",
    "    return False\n",
    "  character_counts = {}\n",
    "  for character in string1:\n",
    "    if character in character_counts:\n",
    "      character_counts[character] += 1\n",
    "    else:\n",
    "      character_counts[character] = 1\n",
    "  for character in string2:\n",
    "    if character not in character_counts:\n",
    "      return False\n",
    "    else:\n",
    "      character_counts[character] -= 1\n",
    "  for count in character_counts.values():\n",
    "    if count != 0:\n",
    "      return False\n",
    "  return True\n",
    "\n",
    "\n",
    "if __name__ == \"__main__\":\n",
    "  string1 = \"madam\"\n",
    "  string2 = \"adam\"\n",
    "  is_anagram_result = is_anagram(string1, string2)\n",
    "  print(f\"Are the two strings anagrams? {is_anagram_result}\")\n"
   ]
  },
  {
   "cell_type": "markdown",
   "id": "b0b76324-1507-44e9-8810-dc2fdc1c5103",
   "metadata": {},
   "source": [
    "### Q22 Implement a function to find the first non-repeating character in a string.\n",
    "\n"
   ]
  },
  {
   "cell_type": "code",
   "execution_count": 73,
   "id": "05257307-053f-441e-bfad-3a5e22ff937a",
   "metadata": {},
   "outputs": [
    {
     "name": "stdout",
     "output_type": "stream",
     "text": [
      "The first non-repeating character is: h\n"
     ]
    }
   ],
   "source": [
    "def find_first_non_repeating_character(string):\n",
    " \n",
    "  seen_characters = set()\n",
    "  for character in string:\n",
    "    if character not in seen_characters:\n",
    "      return character\n",
    "    else:\n",
    "      seen_characters.add(character)\n",
    "  return None\n",
    "\n",
    "\n",
    "if __name__ == \"__main__\":\n",
    "  string = \"hello world\"\n",
    "  first_non_repeating_character = find_first_non_repeating_character(string)\n",
    "  print(f\"The first non-repeating character is: {first_non_repeating_character}\")\n"
   ]
  },
  {
   "cell_type": "markdown",
   "id": "5ba8f400-4f60-44ef-a31d-c7ac12975239",
   "metadata": {},
   "source": [
    "### Q23 Write a program to find the prime factors of a given number.\n",
    "\n"
   ]
  },
  {
   "cell_type": "code",
   "execution_count": 75,
   "id": "711a3e8c-25da-458e-a107-d7ef003252cc",
   "metadata": {},
   "outputs": [
    {
     "name": "stdout",
     "output_type": "stream",
     "text": [
      "The prime factors of 120 are: [2, 2, 2, 3, 5]\n"
     ]
    }
   ],
   "source": [
    "def find_prime_factors(number):\n",
    "\n",
    "\n",
    "  prime_factors = []\n",
    "  for i in range(2, number + 1):\n",
    "    while number % i == 0:\n",
    "      prime_factors.append(i)\n",
    "      number = number // i\n",
    "  return prime_factors\n",
    "\n",
    "\n",
    "if __name__ == \"__main__\":\n",
    "  number = 120\n",
    "  prime_factors = find_prime_factors(number)\n",
    "  print(f\"The prime factors of {number} are: {prime_factors}\")\n"
   ]
  }
 ],
 "metadata": {
  "kernelspec": {
   "display_name": "Python 3 (ipykernel)",
   "language": "python",
   "name": "python3"
  },
  "language_info": {
   "codemirror_mode": {
    "name": "ipython",
    "version": 3
   },
   "file_extension": ".py",
   "mimetype": "text/x-python",
   "name": "python",
   "nbconvert_exporter": "python",
   "pygments_lexer": "ipython3",
   "version": "3.10.8"
  }
 },
 "nbformat": 4,
 "nbformat_minor": 5
}
