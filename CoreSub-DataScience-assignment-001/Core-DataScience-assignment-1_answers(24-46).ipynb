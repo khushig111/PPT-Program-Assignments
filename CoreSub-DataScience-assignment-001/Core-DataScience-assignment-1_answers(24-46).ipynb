{
 "cells": [
  {
   "cell_type": "markdown",
   "id": "690f1ccc-3bd5-421d-85a6-504bd9306559",
   "metadata": {},
   "source": [
    "# CORE SUBJECT - DATA SCIENCE - ASSIGN 1 (Q24 TO Q46)"
   ]
  },
  {
   "cell_type": "markdown",
   "id": "abaab5d7-62d5-44aa-8d49-b2901f314b5f",
   "metadata": {},
   "source": [
    "### Q24 Implement a function to check if a given number is a power of two.\n"
   ]
  },
  {
   "cell_type": "code",
   "execution_count": 22,
   "id": "008de3a5-f60a-460b-90d6-28eee99f6636",
   "metadata": {},
   "outputs": [
    {
     "name": "stdout",
     "output_type": "stream",
     "text": [
      "True\n",
      "True\n",
      "False\n",
      "True\n",
      "False\n"
     ]
    }
   ],
   "source": [
    "def is_power_of_two(n):\n",
    "\n",
    "  if n <= 0:\n",
    "    return False\n",
    "\n",
    "  return (n & (n - 1)) == 0\n",
    "\n",
    "\n",
    "def main():\n",
    "  \"\"\"\n",
    "  Main function to test the `is_power_of_two` function.\n",
    "  \"\"\"\n",
    "\n",
    "  print(is_power_of_two(1))  # True\n",
    "  print(is_power_of_two(2))  # True\n",
    "  print(is_power_of_two(14))  # False\n",
    "  print(is_power_of_two(32))  # True\n",
    "  print(is_power_of_two(-1))  # False\n",
    "\n",
    "\n",
    "if __name__ == \"__main__\":\n",
    "  main()\n"
   ]
  },
  {
   "cell_type": "markdown",
   "id": "8663a21a-5e44-4af7-af0c-fce25a2b38f3",
   "metadata": {},
   "source": [
    "### Q25 Write a Python program to merge two sorted lists into a single sorted list.\n",
    "\n"
   ]
  },
  {
   "cell_type": "code",
   "execution_count": 23,
   "id": "00712b8c-4aa5-468a-849e-132196b46d56",
   "metadata": {},
   "outputs": [
    {
     "name": "stdout",
     "output_type": "stream",
     "text": [
      "[1, 2, 3, 4, 5, 6, 7, 8, 9, 10]\n"
     ]
    }
   ],
   "source": [
    "def merge_sorted_lists(list1, list2):\n",
    "\n",
    "  merged_list = []\n",
    "  i = 0\n",
    "  j = 0\n",
    "\n",
    "  while i < len(list1) and j < len(list2):\n",
    "    if list1[i] <= list2[j]:\n",
    "      merged_list.append(list1[i])\n",
    "      i += 1\n",
    "    else:\n",
    "      merged_list.append(list2[j])\n",
    "      j += 1\n",
    "\n",
    "  merged_list += list1[i:]\n",
    "  merged_list += list2[j:]\n",
    "\n",
    "  return merged_list\n",
    "\n",
    "\n",
    "def main():\n",
    "  \"\"\"\n",
    "  Main function to test the `merge_sorted_lists` function.\n",
    "  \"\"\"\n",
    "\n",
    "  list1 = [1, 3, 5, 7, 9]\n",
    "  list2 = [2, 4, 6, 8, 10]\n",
    "\n",
    "  merged_list = merge_sorted_lists(list1, list2)\n",
    "\n",
    "  print(merged_list)  # [1, 2, 3, 4, 5, 6, 7, 8, 9, 10]\n",
    "\n",
    "\n",
    "if __name__ == \"__main__\":\n",
    "  main()\n"
   ]
  },
  {
   "cell_type": "markdown",
   "id": "e4cb0069-0d3f-4d4d-8e3c-1a96925299f6",
   "metadata": {},
   "source": [
    "### Q26  Implement a function to find the mode of a list of numbers.\n",
    "\n"
   ]
  },
  {
   "cell_type": "code",
   "execution_count": 24,
   "id": "3b68c64b-9ffb-4533-9d3a-870ddafb9171",
   "metadata": {},
   "outputs": [
    {
     "name": "stdout",
     "output_type": "stream",
     "text": [
      "3\n"
     ]
    }
   ],
   "source": [
    "from collections import Counter\n",
    "\n",
    "\n",
    "def mode(list_of_numbers):\n",
    "\n",
    "  counter = Counter(list_of_numbers)\n",
    "  max_count = max(counter.values())\n",
    "  modes = []\n",
    "  for number, count in counter.items():\n",
    "    if count == max_count:\n",
    "      modes.append(number)\n",
    "\n",
    "  if len(modes) == 1:\n",
    "    return modes[0]\n",
    "  else:\n",
    "    return \"No mode\"\n",
    "\n",
    "\n",
    "def main():\n",
    "  \"\"\"\n",
    "  Main function to test the `mode` function.\n",
    "  \"\"\"\n",
    "\n",
    "  list_of_numbers = [1, 2, 3, 3, 3, 4, 5, 5, 6]\n",
    "\n",
    "  mode_of_list = mode(list_of_numbers)\n",
    "\n",
    "  print(mode_of_list)  # 3\n",
    "\n",
    "\n",
    "if __name__ == \"__main__\":\n",
    "  main()\n"
   ]
  },
  {
   "cell_type": "markdown",
   "id": "76ac6590-fb9d-4da5-9085-97b04a0919fc",
   "metadata": {},
   "source": [
    "### Q27 Write a program to find the greatest common divisor (GCD) of two numbers.\n",
    "\n"
   ]
  },
  {
   "cell_type": "code",
   "execution_count": 25,
   "id": "77de387f-48d6-47eb-9585-2bee079bf085",
   "metadata": {},
   "outputs": [
    {
     "name": "stdout",
     "output_type": "stream",
     "text": [
      "200\n"
     ]
    }
   ],
   "source": [
    "def gcd(x, y):\n",
    "\n",
    "  while y != 0:\n",
    "    x, y = y, x % y\n",
    "\n",
    "  return x\n",
    "\n",
    "\n",
    "def main():\n",
    "  \"\"\"\n",
    "  Main function to test the `gcd` function.\n",
    "  \"\"\"\n",
    "\n",
    "  x = 1000\n",
    "  y = 200\n",
    "\n",
    "  gcd_of_numbers = gcd(x, y)\n",
    "\n",
    "  print(gcd_of_numbers)  # 10\n",
    "\n",
    "\n",
    "if __name__ == \"__main__\":\n",
    "  main()\n"
   ]
  },
  {
   "cell_type": "markdown",
   "id": "571cc97d-cdae-4687-bb08-81fa56eb1b7a",
   "metadata": {},
   "source": [
    "### Q28  Implement a function to calculate the square root of a given number.\n",
    "\n"
   ]
  },
  {
   "cell_type": "code",
   "execution_count": 26,
   "id": "2e077e30-6440-48c3-947e-84d57e2c1299",
   "metadata": {},
   "outputs": [
    {
     "name": "stdout",
     "output_type": "stream",
     "text": [
      "9\n"
     ]
    }
   ],
   "source": [
    "def sqrt(number):\n",
    "  \n",
    "  if number < 0:\n",
    "    raise ValueError(\"Cannot calculate the square root of a negative number.\")\n",
    "\n",
    "  low = 0\n",
    "  high = number\n",
    "  mid = (low + high) // 2\n",
    "\n",
    "  while low <= high:\n",
    "    if mid * mid == number:\n",
    "      return mid\n",
    "    elif mid * mid < number:\n",
    "      low = mid + 1\n",
    "    else:\n",
    "      high = mid - 1\n",
    "    mid = (low + high) // 2\n",
    "\n",
    "  return mid\n",
    "\n",
    "\n",
    "def main():\n",
    "  \"\"\"\n",
    "  Main function to test the `sqrt` function.\n",
    "  \"\"\"\n",
    "\n",
    "  number = 81\n",
    "\n",
    "  square_root_of_number = sqrt(number)\n",
    "\n",
    "  print(square_root_of_number)  # 4\n",
    "\n",
    "\n",
    "if __name__ == \"__main__\":\n",
    "  main()\n"
   ]
  },
  {
   "cell_type": "markdown",
   "id": "f0b9f660-9397-40cd-92cd-3066034bb343",
   "metadata": {},
   "source": [
    "### Q29  Write a Python program to check if a given string is a valid palindrome ignoring non-alphanumeric characters.\n"
   ]
  },
  {
   "cell_type": "code",
   "execution_count": 27,
   "id": "5a48819d-ce3d-4e6a-96ec-4e7e678384ef",
   "metadata": {},
   "outputs": [
    {
     "name": "stdout",
     "output_type": "stream",
     "text": [
      "The string is a valid palindrome.\n"
     ]
    }
   ],
   "source": [
    "import re\n",
    "#In the code provided, re refers to the Python re module, which stands for regular expressions. \n",
    "#The re module provides functions for working with regular expressions in Python.\n",
    "\n",
    "\n",
    "def is_valid_palindrome(string):\n",
    "    # Remove non-alphanumeric characters\n",
    "    alphanumeric_string = re.sub(r'\\W+', '', string.lower())\n",
    "\n",
    "    # Check if the string is a palindrome\n",
    "    return alphanumeric_string == alphanumeric_string[::-1]\n",
    "\n",
    "# Example usage\n",
    "input_string = \"A man, a plan, a canal: Panama\"\n",
    "if is_valid_palindrome(input_string):\n",
    "    print(\"The string is a valid palindrome.\")\n",
    "else:\n",
    "    print(\"The string is not a valid palindrome.\")\n"
   ]
  },
  {
   "cell_type": "markdown",
   "id": "58e56b21-668c-437b-b310-4d3f9d99d4bd",
   "metadata": {},
   "source": [
    "### Q30  Implement a function to find the minimum element in a rotated sorted list.\n",
    "\n"
   ]
  },
  {
   "cell_type": "code",
   "execution_count": 28,
   "id": "2025c6f1-c35a-459b-b4a7-3077d2255cdd",
   "metadata": {},
   "outputs": [
    {
     "name": "stdout",
     "output_type": "stream",
     "text": [
      "1\n"
     ]
    }
   ],
   "source": [
    "def find_minimum_element(list_of_numbers):\n",
    "\n",
    "  low = 0\n",
    "  high = len(list_of_numbers) - 1\n",
    "\n",
    "  while low <= high:\n",
    "    mid = (low + high) // 2\n",
    "\n",
    "    if mid == 0 or list_of_numbers[mid - 1] > list_of_numbers[mid]:\n",
    "      return list_of_numbers[mid]\n",
    "    elif list_of_numbers[mid] > list_of_numbers[high]:\n",
    "      low = mid + 1\n",
    "    else:\n",
    "      high = mid - 1\n",
    "\n",
    "  return None\n",
    "\n",
    "\n",
    "def main():\n",
    "  \"\"\"\n",
    "  Main function to test the `find_minimum_element` function.\n",
    "  \"\"\"\n",
    "\n",
    "  list_of_numbers = [3, 4, 5, 1, 2]\n",
    "\n",
    "  minimum_element = find_minimum_element(list_of_numbers)\n",
    "\n",
    "  print(minimum_element)  # 1\n",
    "\n",
    "\n",
    "if __name__ == \"__main__\":\n",
    "  main()\n"
   ]
  },
  {
   "cell_type": "markdown",
   "id": "28d12e32-30ab-4435-a746-5e4c1d459984",
   "metadata": {},
   "source": [
    "### Q31 Write a program to find the sum of all even numbers in a list.\n"
   ]
  },
  {
   "cell_type": "code",
   "execution_count": 29,
   "id": "f9ff5500-386f-427b-b2de-78435df9b089",
   "metadata": {},
   "outputs": [
    {
     "name": "stdout",
     "output_type": "stream",
     "text": [
      "Sum of even numbers: 120\n"
     ]
    }
   ],
   "source": [
    "def sum_even_numbers(numbers):\n",
    "    sum_even = 0\n",
    "    for num in numbers:\n",
    "        if num % 2 == 0:\n",
    "            sum_even += num\n",
    "    return sum_even\n",
    "\n",
    "# Example usage\n",
    "num_list = [1, 2, 3, 4, 5, 6, 7, 8, 90, 10]\n",
    "result = sum_even_numbers(num_list)\n",
    "print(\"Sum of even numbers:\", result)\n"
   ]
  },
  {
   "cell_type": "markdown",
   "id": "c47dfe90-a1aa-482d-bc75-9cad50595a22",
   "metadata": {},
   "source": [
    "### Q32 Implement a function to calculate the power of a number using recursion.\n"
   ]
  },
  {
   "cell_type": "code",
   "execution_count": 30,
   "id": "8b0b71d5-440a-4383-b3a4-52b105db7e7e",
   "metadata": {},
   "outputs": [
    {
     "name": "stdout",
     "output_type": "stream",
     "text": [
      "2 raised to the power of 6 is: 64\n"
     ]
    }
   ],
   "source": [
    "def power(base, exponent):\n",
    "    if exponent == 0:\n",
    "        return 1\n",
    "    elif exponent < 0:\n",
    "        return 1 / power(base, -exponent)\n",
    "    else:\n",
    "        return base * power(base, exponent - 1)\n",
    "\n",
    "# Example usage\n",
    "base = 2\n",
    "exponent = 6\n",
    "result = power(base, exponent)\n",
    "print(f\"{base} raised to the power of {exponent} is: {result}\")\n"
   ]
  },
  {
   "cell_type": "markdown",
   "id": "a31eee19-ae47-4b1b-8bf1-b0d687682bd4",
   "metadata": {},
   "source": [
    "### Q33  Write a Python program to remove duplicates from a list while preserving the order.\n"
   ]
  },
  {
   "cell_type": "code",
   "execution_count": 31,
   "id": "fbc1dd99-b8fb-443f-877d-6c5f3aa87b2c",
   "metadata": {},
   "outputs": [
    {
     "name": "stdout",
     "output_type": "stream",
     "text": [
      "List with duplicates removed: [1, 2, 3, 4, 5, 6]\n"
     ]
    }
   ],
   "source": [
    "def remove_duplicates_preserve_order(lst):\n",
    "    unique_list = []\n",
    "    for item in lst:\n",
    "        if item not in unique_list:\n",
    "            unique_list.append(item)\n",
    "    return unique_list\n",
    "\n",
    "# Example usage\n",
    "input_list = [1, 2, 3, 2, 4, 3, 5, 6, 5]\n",
    "result = remove_duplicates_preserve_order(input_list)\n",
    "print(\"List with duplicates removed:\", result)\n"
   ]
  },
  {
   "cell_type": "markdown",
   "id": "9ec53ce3-264c-4c33-8a42-f5f0b58be34f",
   "metadata": {},
   "source": [
    "### Q34 Implement a function to find the longest common prefix among a list of strings.\n"
   ]
  },
  {
   "cell_type": "code",
   "execution_count": 32,
   "id": "0431519c-4466-4662-9d8c-860988ecbf3b",
   "metadata": {},
   "outputs": [
    {
     "name": "stdout",
     "output_type": "stream",
     "text": [
      "Longest common prefix: fl\n"
     ]
    }
   ],
   "source": [
    "def longest_common_prefix(strings):\n",
    "    if not strings:\n",
    "        return \"\"\n",
    "\n",
    "    # Find the shortest string in the list\n",
    "    shortest_string = min(strings, key=len)\n",
    "\n",
    "    # Check each character of the shortest string against all strings\n",
    "    for i, char in enumerate(shortest_string):\n",
    "        for string in strings:\n",
    "            if string[i] != char:\n",
    "                return shortest_string[:i]\n",
    "\n",
    "    return shortest_string\n",
    "\n",
    "# Example usage\n",
    "input_strings = [\"flower\", \"flow\", \"flight\"]\n",
    "result = longest_common_prefix(input_strings)\n",
    "print(\"Longest common prefix:\", result)\n"
   ]
  },
  {
   "cell_type": "markdown",
   "id": "b582d14e-9e1a-4cd2-aee5-ee2ab2ce36a9",
   "metadata": {},
   "source": [
    "### Q35 Write a program to check if a given number is a perfect square.\n",
    "\n"
   ]
  },
  {
   "cell_type": "code",
   "execution_count": 33,
   "id": "7a8309d0-dea0-4704-94ea-4e4bd10d333c",
   "metadata": {},
   "outputs": [
    {
     "name": "stdout",
     "output_type": "stream",
     "text": [
      "The number is a perfect square.\n"
     ]
    }
   ],
   "source": [
    "def is_perfect_square(num):\n",
    "    if num < 0:\n",
    "        return False\n",
    "\n",
    "    if num == 0:\n",
    "        return True\n",
    "\n",
    "    # Use binary search to find the square root\n",
    "    left, right = 1, num\n",
    "    while left <= right:\n",
    "        mid = left + (right - left) // 2\n",
    "        square = mid * mid\n",
    "        if square == num:\n",
    "            return True\n",
    "        elif square < num:\n",
    "            left = mid + 1\n",
    "        else:\n",
    "            right = mid - 1\n",
    "\n",
    "    return False\n",
    "\n",
    "# Example usage\n",
    "number = 25\n",
    "if is_perfect_square(number):\n",
    "    print(\"The number is a perfect square.\")\n",
    "else:\n",
    "    print(\"The number is not a perfect square.\")\n"
   ]
  },
  {
   "cell_type": "markdown",
   "id": "9a5c03e1-e7ed-40d2-b2f6-4cb76b9211a1",
   "metadata": {},
   "source": [
    "### Q36 Implement a function to calculate the product of all elements in a list.\n",
    "\n"
   ]
  },
  {
   "cell_type": "code",
   "execution_count": 34,
   "id": "ed762191-0cc8-45b0-ba7c-4635c47bed04",
   "metadata": {},
   "outputs": [
    {
     "name": "stdout",
     "output_type": "stream",
     "text": [
      "Product of all elements: 120\n"
     ]
    }
   ],
   "source": [
    "from functools import reduce\n",
    "import operator\n",
    "\n",
    "def calculate_product(numbers):\n",
    "    return reduce(operator.mul, numbers, 1)\n",
    "\n",
    "# Example usage\n",
    "num_list = [2, 3, 4, 5]\n",
    "result = calculate_product(num_list)\n",
    "print(\"Product of all elements:\", result)\n"
   ]
  },
  {
   "cell_type": "markdown",
   "id": "6cf4ddc3-da21-4acb-8bed-54b2a0db2729",
   "metadata": {},
   "source": [
    "### Q37  Write a Python program to reverse the order of words in a sentence while preserving the word order.\n"
   ]
  },
  {
   "cell_type": "code",
   "execution_count": 35,
   "id": "39fd0166-a616-4c6e-8c7d-c2d05f252b79",
   "metadata": {},
   "outputs": [
    {
     "name": "stdout",
     "output_type": "stream",
     "text": [
      "Reversed sentence: Science Data doing am I ? you are how , Hello\n"
     ]
    }
   ],
   "source": [
    "def reverse_sentence(sentence):\n",
    "    words = sentence.split()\n",
    "    reversed_sentence = ' '.join(reversed(words))\n",
    "    return reversed_sentence\n",
    "\n",
    "# Example usage\n",
    "input_sentence = \"Hello , how are you ? I am doing Data Science\"\n",
    "result = reverse_sentence(input_sentence)\n",
    "print(\"Reversed sentence:\", result)\n"
   ]
  },
  {
   "cell_type": "markdown",
   "id": "da310630-3dd6-4774-bcec-ee11f009e9e5",
   "metadata": {
    "tags": []
   },
   "source": [
    "### Q38  Implement a function to find the missing number in a given list of consecutive numbers."
   ]
  },
  {
   "cell_type": "code",
   "execution_count": 36,
   "id": "6f9bb6eb-8004-4f69-a572-c886bd761bf6",
   "metadata": {},
   "outputs": [
    {
     "name": "stdout",
     "output_type": "stream",
     "text": [
      "Missing number: 4\n"
     ]
    }
   ],
   "source": [
    "def find_missing_number(numbers):\n",
    "    n = len(numbers)\n",
    "    total_sum = (n + 1) * (n + 2) // 2\n",
    "\n",
    "    for num in numbers:\n",
    "        total_sum -= num\n",
    "\n",
    "    return total_sum\n",
    "\n",
    "# Example usage\n",
    "consecutive_numbers = [1, 2, 3, 5, 6, 7, 8]\n",
    "missing_number = find_missing_number(consecutive_numbers)\n",
    "print(\"Missing number:\", missing_number)\n"
   ]
  },
  {
   "cell_type": "markdown",
   "id": "1572a25a-40e8-48d4-9c9a-ccedcaf8fef8",
   "metadata": {},
   "source": [
    "### Q39 Write a program to find the sum of digits of a given number.\n"
   ]
  },
  {
   "cell_type": "code",
   "execution_count": 37,
   "id": "9f20785b-655e-4785-9e73-bf48ebb3f6f8",
   "metadata": {},
   "outputs": [
    {
     "name": "stdout",
     "output_type": "stream",
     "text": [
      "Sum of digits: 16\n"
     ]
    }
   ],
   "source": [
    "def sum_of_digits(number):\n",
    "    sum_digits = 0\n",
    "    while number > 0:\n",
    "        digit = number % 10\n",
    "        sum_digits += digit\n",
    "        number //= 10\n",
    "    return sum_digits\n",
    "\n",
    "# Example usage\n",
    "input_number = 754\n",
    "result = sum_of_digits(input_number)\n",
    "print(\"Sum of digits:\", result)\n"
   ]
  },
  {
   "cell_type": "markdown",
   "id": "7112cd2f-1f96-41b7-a8f6-ea6e854197d3",
   "metadata": {},
   "source": [
    "### Q40  Implement a function to check if a given string is a valid palindrome considering case sensitivity."
   ]
  },
  {
   "cell_type": "code",
   "execution_count": 38,
   "id": "c8240a45-54a1-4d19-8001-f86f637d009a",
   "metadata": {},
   "outputs": [
    {
     "name": "stdout",
     "output_type": "stream",
     "text": [
      "The string is a valid palindrome.\n"
     ]
    }
   ],
   "source": [
    "def is_valid_palindrome(string):\n",
    "    # Remove non-alphanumeric characters and convert to lowercase\n",
    "    alphanumeric_string = ''.join(c.lower() for c in string if c.isalnum())\n",
    "\n",
    "    # Check if the string is a palindrome\n",
    "    return alphanumeric_string == alphanumeric_string[::-1]\n",
    "\n",
    "# Example usage\n",
    "input_string = \"Able was I saw Elba\"\n",
    "if is_valid_palindrome(input_string):\n",
    "    print(\"The string is a valid palindrome.\")\n",
    "else:\n",
    "    print(\"The string is not a valid palindrome.\")\n"
   ]
  },
  {
   "cell_type": "markdown",
   "id": "b51a55c3-a565-419b-b513-f2f7844815e1",
   "metadata": {},
   "source": [
    "### Q41  Write a Python program to find the smallest missing positive integer in a list.\n",
    "\n"
   ]
  },
  {
   "cell_type": "code",
   "execution_count": 39,
   "id": "efcd4008-2774-4ec4-9083-32283674f746",
   "metadata": {},
   "outputs": [
    {
     "name": "stdout",
     "output_type": "stream",
     "text": [
      "Smallest missing positive integer: 5\n"
     ]
    }
   ],
   "source": [
    "# same as Q46 of this assignment\n",
    "\n",
    "def find_smallest_missing_positive_integer(nums):\n",
    "    n = len(nums)\n",
    "    # Create a set to store positive integers\n",
    "    positive_nums = set()\n",
    "\n",
    "    # Iterate through the list and add positive integers to the set\n",
    "    for num in nums:\n",
    "        if num > 0:\n",
    "            positive_nums.add(num)\n",
    "\n",
    "    # Check for the smallest missing positive integer\n",
    "    smallest_missing = 1\n",
    "    while smallest_missing in positive_nums:\n",
    "        smallest_missing += 1\n",
    "\n",
    "    return smallest_missing\n",
    "\n",
    "\n",
    "# Example usage\n",
    "numbers = [3, 4, 2,6, 1]\n",
    "result = find_smallest_missing_positive_integer(numbers)\n",
    "print(\"Smallest missing positive integer:\", result)\n"
   ]
  },
  {
   "cell_type": "markdown",
   "id": "ebbb51e8-c716-4b2b-a30f-283abff65e9c",
   "metadata": {},
   "source": [
    "### Q42 Implement a function to find the longest palindrome substring in a given string.\n",
    "\n"
   ]
  },
  {
   "cell_type": "code",
   "execution_count": 40,
   "id": "ae1161aa-e9a7-4fe9-b861-72751357a459",
   "metadata": {},
   "outputs": [
    {
     "name": "stdout",
     "output_type": "stream",
     "text": [
      "Longest palindrome substring: bab\n"
     ]
    }
   ],
   "source": [
    "def longest_palindrome(s):\n",
    "    if not s:\n",
    "        return \"\"\n",
    "\n",
    "    n = len(s)\n",
    "    start = end = 0\n",
    "\n",
    "    # Helper function to expand around the center\n",
    "    def expand_around_center(left, right):\n",
    "        while left >= 0 and right < n and s[left] == s[right]:\n",
    "            left -= 1\n",
    "            right += 1\n",
    "        return left + 1, right - 1\n",
    "\n",
    "    # Iterate through each character as a potential center\n",
    "    for i in range(n):\n",
    "        # Check for odd-length palindromes\n",
    "        left1, right1 = expand_around_center(i, i)\n",
    "        if right1 - left1 > end - start:\n",
    "            start, end = left1, right1\n",
    "\n",
    "        # Check for even-length palindromes\n",
    "        left2, right2 = expand_around_center(i, i + 1)\n",
    "        if right2 - left2 > end - start:\n",
    "            start, end = left2, right2\n",
    "\n",
    "    return s[start:end + 1]\n",
    "\n",
    "\n",
    "# Example usage\n",
    "string = \"babad\"\n",
    "result = longest_palindrome(string)\n",
    "print(\"Longest palindrome substring:\", result)\n"
   ]
  },
  {
   "cell_type": "markdown",
   "id": "5472fcef-28f8-47ec-b00b-c877d0c5432b",
   "metadata": {},
   "source": [
    "### Q43 . Write a program to find the number of occurrences of a given element in a list.\n",
    "\n"
   ]
  },
  {
   "cell_type": "code",
   "execution_count": 41,
   "id": "74236381-f1c3-4202-8966-a51eddce6271",
   "metadata": {},
   "outputs": [
    {
     "name": "stdout",
     "output_type": "stream",
     "text": [
      "Number of occurrences of 2 in the list: 4\n"
     ]
    }
   ],
   "source": [
    "def count_occurrences(lst, element):\n",
    "    count = 0\n",
    "    for item in lst:\n",
    "        if item == element:\n",
    "            count += 1\n",
    "    return count\n",
    "\n",
    "\n",
    "# Example usage\n",
    "numbers = [1, 2, 3, 4, 2, 2, 3, 2]\n",
    "element = 2\n",
    "result = count_occurrences(numbers, element)\n",
    "print(\"Number of occurrences of\", element, \"in the list:\", result)\n"
   ]
  },
  {
   "cell_type": "markdown",
   "id": "3d962d31-8046-445d-a4da-1581dfc8c06e",
   "metadata": {},
   "source": [
    "### Q44  Implement a function to check if a given number is a perfect number.\n",
    "\n"
   ]
  },
  {
   "cell_type": "code",
   "execution_count": 42,
   "id": "8171cdf3-3b62-4260-80f3-8f479d107f1d",
   "metadata": {},
   "outputs": [
    {
     "name": "stdout",
     "output_type": "stream",
     "text": [
      "28 is a perfect number.\n"
     ]
    }
   ],
   "source": [
    "'''\n",
    "A perfect number is a positive integer that is equal to the sum of its proper divisors (excluding the number itself). \n",
    "In other words, the sum of all positive divisors of the number, excluding the number itself, is equal to the\n",
    "number itself.\n",
    "\n",
    "For example, let's take the number 28. The divisors of 28 (excluding 28 itself) are 1, 2, 4, 7, and 14. \n",
    "If we sum these divisors (1 + 2 + 4 + 7 + 14), we get 28, which is the number itself. Hence, 28 is a perfect number.\n",
    "'''\n",
    "\n",
    "def is_perfect_number(num):\n",
    "    if num <= 0:\n",
    "        return False\n",
    "\n",
    "    divisor_sum = sum(divisor for divisor in range(1, num) if num % divisor == 0)\n",
    "    return num == divisor_sum\n",
    "\n",
    "\n",
    "# Example usage\n",
    "number = 28\n",
    "result = is_perfect_number(number)\n",
    "if result:\n",
    "    print(number, \"is a perfect number.\")\n",
    "else:\n",
    "    print(number, \"is not a perfect number.\")\n"
   ]
  },
  {
   "cell_type": "markdown",
   "id": "f34be1bf-55fd-46ac-ae83-b253f424c01a",
   "metadata": {},
   "source": [
    "### Q45 Write a Python program to remove all duplicates from a string."
   ]
  },
  {
   "cell_type": "code",
   "execution_count": 43,
   "id": "28a8f89f-da99-44e4-9476-2703ccb1f6af",
   "metadata": {},
   "outputs": [
    {
     "name": "stdout",
     "output_type": "stream",
     "text": [
      "String with duplicates removed: Helo, Wrd!\n"
     ]
    }
   ],
   "source": [
    "def remove_duplicates(string):\n",
    "    # Create a set to store unique characters\n",
    "    unique_chars = set()\n",
    "\n",
    "    # Iterate through each character in the string\n",
    "    # and add it to the set if it's not already present\n",
    "    result = \"\"\n",
    "    for char in string:\n",
    "        if char not in unique_chars:\n",
    "            unique_chars.add(char)\n",
    "            result += char\n",
    "\n",
    "    return result\n",
    "\n",
    "\n",
    "# Example usage\n",
    "input_string = \"Hello, World!\"\n",
    "result_string = remove_duplicates(input_string)\n",
    "print(\"String with duplicates removed:\", result_string)\n"
   ]
  },
  {
   "cell_type": "markdown",
   "id": "da6859ce-ec6c-4763-be46-ace17e658215",
   "metadata": {},
   "source": [
    "### Q46 Implement a function to find the first missing positive\n",
    "\n"
   ]
  },
  {
   "cell_type": "code",
   "execution_count": 44,
   "id": "742ffcdb-f414-4df0-8ff7-6ae74532f3e4",
   "metadata": {},
   "outputs": [
    {
     "name": "stdout",
     "output_type": "stream",
     "text": [
      "First missing positive integer: 2\n"
     ]
    }
   ],
   "source": [
    "def find_first_missing_positive(nums):\n",
    "    n = len(nums)\n",
    "\n",
    "    # Move all positive integers to their correct positions\n",
    "    for i in range(n):\n",
    "        while 0 < nums[i] <= n and nums[nums[i] - 1] != nums[i]:\n",
    "            nums[nums[i] - 1], nums[i] = nums[i], nums[nums[i] - 1]\n",
    "\n",
    "    # Find the first index where the value doesn't match the index\n",
    "    for i in range(n):\n",
    "        if nums[i] != i + 1:\n",
    "            return i + 1\n",
    "\n",
    "    # If all positive integers are present, return the next positive integer\n",
    "    return n + 1\n",
    "\n",
    "# Example usage\n",
    "numbers = [3, 4, -1, 1]\n",
    "result = find_first_missing_positive(numbers)\n",
    "print(\"First missing positive integer:\", result)\n"
   ]
  }
 ],
 "metadata": {
  "kernelspec": {
   "display_name": "Python 3 (ipykernel)",
   "language": "python",
   "name": "python3"
  },
  "language_info": {
   "codemirror_mode": {
    "name": "ipython",
    "version": 3
   },
   "file_extension": ".py",
   "mimetype": "text/x-python",
   "name": "python",
   "nbconvert_exporter": "python",
   "pygments_lexer": "ipython3",
   "version": "3.10.8"
  }
 },
 "nbformat": 4,
 "nbformat_minor": 5
}
