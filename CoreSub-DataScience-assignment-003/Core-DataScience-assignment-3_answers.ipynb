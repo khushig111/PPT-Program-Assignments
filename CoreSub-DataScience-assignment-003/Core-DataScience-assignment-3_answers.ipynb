{
 "cells": [
  {
   "cell_type": "markdown",
   "id": "690f1ccc-3bd5-421d-85a6-504bd9306559",
   "metadata": {},
   "source": [
    "# CORE SUBJECT - DATA SCIENCE - ASSIGN 3"
   ]
  },
  {
   "cell_type": "code",
   "execution_count": 109,
   "id": "00712b8c-4aa5-468a-849e-132196b46d56",
   "metadata": {},
   "outputs": [],
   "source": [
    "import numpy as np\n",
    "from scipy import stats\n",
    "import warnings\n",
    "warnings.filterwarnings(\"ignore\")"
   ]
  },
  {
   "cell_type": "markdown",
   "id": "abaab5d7-62d5-44aa-8d49-b2901f314b5f",
   "metadata": {},
   "source": [
    "### Q1\n",
    "Scenario: A company wants to analyze the sales performance of its products in different regions. They have collected the following data:\n",
    "\n",
    "\n",
    "   Region A: [10, 15, 12, 8, 14]\n",
    "   \n",
    "   Region B: [18, 20, 16, 22, 25]\n",
    "\n",
    "\n",
    "Calculate the mean sales for each region.\n"
   ]
  },
  {
   "cell_type": "code",
   "execution_count": 110,
   "id": "3b68c64b-9ffb-4533-9d3a-870ddafb9171",
   "metadata": {},
   "outputs": [
    {
     "name": "stdout",
     "output_type": "stream",
     "text": [
      "Mean of Region A is: 11.8\n",
      "Mean of Region B is: 20.2\n"
     ]
    }
   ],
   "source": [
    "A = [10, 15, 12, 8, 14]\n",
    "B = [18, 20, 16, 22, 25]\n",
    "print(f\"Mean of Region A is: {np.mean(A)}\")\n",
    "print(f\"Mean of Region B is: {np.mean(B)}\")"
   ]
  },
  {
   "cell_type": "markdown",
   "id": "76ac6590-fb9d-4da5-9085-97b04a0919fc",
   "metadata": {},
   "source": [
    "### Q2\n",
    "Scenario: A survey is conducted to measure customer satisfaction on a scale of 1 to 5. The data collected is as follows:\n",
    "   \n",
    "   [4, 5, 2, 3, 5, 4, 3, 2, 4, 5]\n",
    "   \n",
    "   Calculate the mode of the survey responses.\n"
   ]
  },
  {
   "cell_type": "code",
   "execution_count": 111,
   "id": "77de387f-48d6-47eb-9585-2bee079bf085",
   "metadata": {},
   "outputs": [
    {
     "name": "stdout",
     "output_type": "stream",
     "text": [
      "The mode of the survey is: 4\n"
     ]
    }
   ],
   "source": [
    "survey=[4, 5, 2, 3, 5, 4, 3, 2, 4, 5]\n",
    "print(f\"The mode of the survey is: {stats.mode(survey)[0][0]}\")"
   ]
  },
  {
   "cell_type": "markdown",
   "id": "571cc97d-cdae-4687-bb08-81fa56eb1b7a",
   "metadata": {},
   "source": [
    "### Q3\n",
    "\n",
    " Scenario: A company wants to compare the salaries of two departments. The salary data for Department A and Department B are as follows:\n",
    "   \n",
    "   Department A: [5000, 6000, 5500, 7000]\n",
    "   \n",
    "   Department B: [4500, 5500, 5800, 6000, 5200]\n",
    "   \n",
    "   Calculate the median salary for each department.\n"
   ]
  },
  {
   "cell_type": "code",
   "execution_count": 112,
   "id": "2e077e30-6440-48c3-947e-84d57e2c1299",
   "metadata": {},
   "outputs": [
    {
     "name": "stdout",
     "output_type": "stream",
     "text": [
      "The median salary for Department A is: 5750.0\n",
      "The median salary for Department B is: 5500.0\n"
     ]
    }
   ],
   "source": [
    "A = [5000, 6000, 5500, 7000]\n",
    "B = [4500, 5500, 5800, 6000, 5200]\n",
    "print(f\"The median salary for Department A is: {np.median(A)}\")\n",
    "print(f\"The median salary for Department B is: {np.median(B)}\")"
   ]
  },
  {
   "cell_type": "markdown",
   "id": "f0b9f660-9397-40cd-92cd-3066034bb343",
   "metadata": {},
   "source": [
    "### Q4\n",
    "Scenario: A data analyst wants to determine the variability in the daily stock prices of a company. The data collected is as follows:\n",
    "   \n",
    "   [25.5, 24.8, 26.1, 25.3, 24.9]\n",
    "   \n",
    "   Calculate the range of the stock prices.\n"
   ]
  },
  {
   "cell_type": "code",
   "execution_count": 113,
   "id": "5a48819d-ce3d-4e6a-96ec-4e7e678384ef",
   "metadata": {},
   "outputs": [
    {
     "name": "stdout",
     "output_type": "stream",
     "text": [
      "Range of stock prices is: 1.3\n"
     ]
    }
   ],
   "source": [
    "A = [25.5, 24.8, 26.1, 25.3, 24.9]\n",
    "print(f\"Range of stock prices is: {round((max(A) - min(A)),2)}\")"
   ]
  },
  {
   "cell_type": "markdown",
   "id": "58e56b21-668c-437b-b310-4d3f9d99d4bd",
   "metadata": {},
   "source": [
    "### Q5  \n",
    "Scenario: A study is conducted to compare the performance of two different teaching methods. The test scores of the students in each group are as follows:\n",
    "   \n",
    "   Group A: [85, 90, 92, 88, 91]\n",
    "   \n",
    "   Group B: [82, 88, 90, 86, 87]\n",
    "   \n",
    "   Perform a t-test to determine if there is a significant difference in the mean scores between the two groups.\n",
    "\n"
   ]
  },
  {
   "cell_type": "code",
   "execution_count": 114,
   "id": "4da402eb-1107-457c-8873-018fd852d27f",
   "metadata": {},
   "outputs": [
    {
     "name": "stdout",
     "output_type": "stream",
     "text": [
      "P value is 0.19023970239078333: Failed to reject Null hypothesis. There is no significant difference in the mean scores between the groups\n"
     ]
    }
   ],
   "source": [
    "A = [85, 90, 92, 88, 91]\n",
    "B = [82, 88, 90, 86, 87]\n",
    "_ , p_val = stats.ttest_ind(A,B)\n",
    "alpha = 0.05\n",
    "if p_val < alpha:\n",
    "    print(f\"P value is {p_val}: Null hypothesis rejected . There is a significant difference in the mean scores between the groups\")\n",
    "else:\n",
    "    print(f\"P value is {p_val}: Failed to reject Null hypothesis. There is no significant difference in the mean scores between the groups\")"
   ]
  },
  {
   "cell_type": "markdown",
   "id": "96eca487-ef19-4b11-83d6-ce7be932dbb9",
   "metadata": {},
   "source": [
    "### Q6\n",
    "\n",
    "Scenario: A company wants to analyze the relationship between advertising expenditure and sales. The data collected is as follows:\n",
    "\n",
    "Advertising Expenditure (in thousands): [10, 15, 12, 8, 14]\n",
    "\n",
    "Sales (in thousands): [25, 30, 28, 20, 26]\n",
    "\n",
    "Calculate the correlation coefficient between advertising expenditure and sales.\n"
   ]
  },
  {
   "cell_type": "code",
   "execution_count": 115,
   "id": "8bb1b0e7-2d2a-4b7c-98b5-6b92cdf83170",
   "metadata": {},
   "outputs": [
    {
     "name": "stdout",
     "output_type": "stream",
     "text": [
      "The correlation coefficient between the Advertising Expenditure and the Sales is: 0.8757511375750132\n"
     ]
    }
   ],
   "source": [
    "ad_exp = [10, 15, 12, 8, 14]\n",
    "sales = [25, 30, 28, 20, 26]\n",
    "c = np.corrcoef(ad_exp,sales)\n",
    "print(f\"The correlation coefficient between the Advertising Expenditure and the Sales is: {c[0][1]}\")"
   ]
  },
  {
   "cell_type": "markdown",
   "id": "c39ded59-1f06-4aa1-954a-e79dfaad622e",
   "metadata": {},
   "source": [
    "\n",
    "### Q7\n",
    "Scenario: A survey is conducted to measure the heights of a group of people. The data collected is as follows:\n",
    "\n",
    "[160, 170, 165, 155, 175, 180, 170]\n",
    "\n",
    "Calculate the standard deviation of the heights.\n"
   ]
  },
  {
   "cell_type": "code",
   "execution_count": 116,
   "id": "7668cda6-279a-40bc-95c8-692f3785f6fc",
   "metadata": {},
   "outputs": [
    {
     "name": "stdout",
     "output_type": "stream",
     "text": [
      "The standard deviation of the height is :7.953949089757174\n"
     ]
    }
   ],
   "source": [
    "height = [160, 170, 165, 155, 175, 180, 170]\n",
    "print(f\"The standard deviation of the height is :{np.std(height)}\")"
   ]
  },
  {
   "cell_type": "markdown",
   "id": "4a33fda4-5672-44f3-8975-158eb42ed7a6",
   "metadata": {},
   "source": [
    "### Q8\n",
    "\n",
    "Scenario: A company wants to analyze the relationship between employee tenure and job satisfaction. The data collected is as follows:\n",
    "\n",
    "Employee Tenure (in years): [2, 3, 5, 4, 6, 2, 4]\n",
    "\n",
    "Job Satisfaction (on a scale of 1 to 10): [7, 8, 6, 9, 5, 7, 6]\n",
    "\n",
    "Perform a linear regression analysis to predict job satisfaction based on employee tenure.\n"
   ]
  },
  {
   "cell_type": "code",
   "execution_count": 117,
   "id": "943862f5-9ce0-4005-9016-387ec3bd683e",
   "metadata": {},
   "outputs": [
    {
     "name": "stdout",
     "output_type": "stream",
     "text": [
      "The linear equation for prediction of Job Satisfaction from Employee Tenure by ordinary least squares is:\n",
      "Job Satisfaction = -0.4680851063829787* Employee Tenure + 8.595744680851062\n",
      "The p-values is: 0.23095550952297988\n"
     ]
    }
   ],
   "source": [
    "Tenure = [2, 3, 5, 4, 6, 2, 4]\n",
    "Satisfaction = [7, 8, 6, 9, 5, 7, 6]\n",
    "result = stats.linregress(Tenure,Satisfaction)\n",
    "print(\"The linear equation for prediction of Job Satisfaction from Employee Tenure by ordinary least squares is:\")\n",
    "print(f\"Job Satisfaction = {result.slope}* Employee Tenure + {result.intercept}\")\n",
    "print(f\"The p-values is: {result.pvalue}\")"
   ]
  },
  {
   "cell_type": "markdown",
   "id": "5c7fbbd1-2b11-4a77-a49d-a06b742628d3",
   "metadata": {},
   "source": [
    "### Q9\n",
    "\n",
    "Scenario: A study is conducted to compare the effectiveness of two different medications. The recovery times of the patients in each group are as follows:\n",
    "\n",
    "Medication A: [10, 12, 14, 11, 13]\n",
    "\n",
    "Medication B: [15, 17, 16, 14, 18]\n",
    "\n",
    "Perform an analysis of variance (ANOVA) to determine if there is a significant difference in the mean recovery times between the two medications.\n"
   ]
  },
  {
   "cell_type": "code",
   "execution_count": 118,
   "id": "0fb21d0f-af1a-4133-97b3-0a4dbe2bdf7c",
   "metadata": {},
   "outputs": [
    {
     "name": "stdout",
     "output_type": "stream",
     "text": [
      "P value is 0.003949772803445326: Null hypothesis rejected . There is a significant difference in the mean recovery times between the two medications.\n"
     ]
    }
   ],
   "source": [
    "med_A = [10, 12, 14, 11, 13]\n",
    "med_B = [15, 17, 16, 14, 18]\n",
    "_ , p_val = stats.f_oneway(med_A, med_B)\n",
    "alpha = 0.05\n",
    "if p_val < alpha:\n",
    "    print(f\"P value is {p_val}: Null hypothesis rejected . There is a significant difference in the mean recovery times between the two medications.\")\n",
    "else:\n",
    "    print(f\"P value is {p_val}: Failed to reject Null hypothesis. There is no significant difference in the mean recovery times between the two medications.\")"
   ]
  },
  {
   "cell_type": "markdown",
   "id": "ba5224dd-9cc3-472d-80de-bc6f4559f075",
   "metadata": {},
   "source": [
    "### Q10\n",
    "Scenario: A company wants to analyze customer feedback ratings on a scale of 1 to 10. The data collected is as follows:\n",
    "\n",
    "    [8, 9, 7, 6, 8, 10, 9, 8, 7, 8]\n",
    "    \n",
    "    Calculate the 75th percentile of the feedback ratings.\n"
   ]
  },
  {
   "cell_type": "code",
   "execution_count": 119,
   "id": "f3224577-0d6b-41fc-b669-34e96d096824",
   "metadata": {},
   "outputs": [
    {
     "name": "stdout",
     "output_type": "stream",
     "text": [
      "The 75th percentile is: 8.75\n"
     ]
    }
   ],
   "source": [
    "rating = [8, 9, 7, 6, 8, 10, 9, 8, 7, 8]\n",
    "print(f\"The 75th percentile is: {np.percentile(rating,75)}\")"
   ]
  },
  {
   "cell_type": "markdown",
   "id": "98cfdaff-5132-4e5d-a48d-4c319281d495",
   "metadata": {},
   "source": [
    "### Q11\n",
    "Scenario: A quality control department wants to test the weight consistency of a product. The weights of a sample of products are as follows:\n",
    "\n",
    "    [10.2, 9.8, 10.0, 10.5, 10.3, 10.1]\n",
    "    \n",
    "    Perform a hypothesis test to determine if the mean weight differs significantly from 10 grams.\n",
    "\n"
   ]
  },
  {
   "cell_type": "code",
   "execution_count": 120,
   "id": "e1368174-e9d4-401a-a38a-fd06eeea8032",
   "metadata": {},
   "outputs": [
    {
     "name": "stdout",
     "output_type": "stream",
     "text": [
      "P value is 0.19077595151110102: Failed to reject Null hypothesis. Mean weight does not differ significantly from 10 grams.\n"
     ]
    }
   ],
   "source": [
    "weight = [10.2, 9.8, 10.0, 10.5, 10.3, 10.1]\n",
    "result = stats.ttest_1samp(weight , 10)\n",
    "alpha = 0.05\n",
    "if result.pvalue < alpha: \n",
    "    print(f\"P value is {result.pvalue}: Null hypothesis rejected . Mean weight differs significantly from 10 grams.\")\n",
    "else:\n",
    "    print(f\"P value is {result.pvalue}: Failed to reject Null hypothesis. Mean weight does not differ significantly from 10 grams.\")"
   ]
  },
  {
   "cell_type": "markdown",
   "id": "d662ae60-89b6-4314-bcd6-bbbf70d6ed92",
   "metadata": {},
   "source": [
    "### Q12\n",
    "Scenario: A company wants to analyze the click-through rates of two different website designs. The number of clicks for each design is as follows:\n",
    "\n",
    "    Design A: [100, 120, 110, 90, 95]\n",
    "    \n",
    "    Design B: [80, 85, 90, 95, 100]\n",
    "    \n",
    "    Perform a chi-square test to determine if there is a significant difference in the click-through rates between the two designs.\n"
   ]
  },
  {
   "cell_type": "code",
   "execution_count": 121,
   "id": "bb67b670-9d21-41e2-bf1e-6aedef7a41b0",
   "metadata": {},
   "outputs": [
    {
     "ename": "AttributeError",
     "evalue": "'tuple' object has no attribute 'pvalue'",
     "output_type": "error",
     "traceback": [
      "\u001b[0;31m---------------------------------------------------------------------------\u001b[0m",
      "\u001b[0;31mAttributeError\u001b[0m                            Traceback (most recent call last)",
      "Cell \u001b[0;32mIn[121], line 5\u001b[0m\n\u001b[1;32m      3\u001b[0m result \u001b[38;5;241m=\u001b[39m stats\u001b[38;5;241m.\u001b[39mchi2_contingency(A, B)\n\u001b[1;32m      4\u001b[0m alpha \u001b[38;5;241m=\u001b[39m \u001b[38;5;241m0.05\u001b[39m\n\u001b[0;32m----> 5\u001b[0m \u001b[38;5;28;01mif\u001b[39;00m \u001b[43mresult\u001b[49m\u001b[38;5;241;43m.\u001b[39;49m\u001b[43mpvalue\u001b[49m \u001b[38;5;241m<\u001b[39m alpha: \n\u001b[1;32m      6\u001b[0m     \u001b[38;5;28mprint\u001b[39m(\u001b[38;5;124mf\u001b[39m\u001b[38;5;124m\"\u001b[39m\u001b[38;5;124mP value is \u001b[39m\u001b[38;5;132;01m{\u001b[39;00mresult\u001b[38;5;241m.\u001b[39mpvalue\u001b[38;5;132;01m}\u001b[39;00m\u001b[38;5;124m: Null hypothesis rejected . There is a significant difference in the click-through rates between the two designs.\u001b[39m\u001b[38;5;124m\"\u001b[39m)\n\u001b[1;32m      7\u001b[0m \u001b[38;5;28;01melse\u001b[39;00m:\n",
      "\u001b[0;31mAttributeError\u001b[0m: 'tuple' object has no attribute 'pvalue'"
     ]
    }
   ],
   "source": [
    "A = [100, 120, 110, 90, 95]\n",
    "B = [80, 85, 90, 95, 100]\n",
    "result = stats.chi2_contingency(A, B)\n",
    "alpha = 0.05\n",
    "if result.pvalue < alpha: \n",
    "    print(f\"P value is {result.pvalue}: Null hypothesis rejected . There is a significant difference in the click-through rates between the two designs.\")\n",
    "else:\n",
    "    print(f\"P value is {result.pvalue}: Failed to reject Null hypothesis. There is no significant difference in the click-through rates between the two designs\")"
   ]
  },
  {
   "cell_type": "markdown",
   "id": "7cac7176-b8f3-44ad-8d32-203dd27308b8",
   "metadata": {},
   "source": [
    "### Q13\n",
    "Scenario: A survey is conducted to measure customer satisfaction with a product on a scale of 1 to 10. The data collected is as follows:\n",
    "\n",
    "    [7, 9, 6, 8, 10, 7, 8, 9, 7, 8]\n",
    "    \n",
    "    Calculate the 95% confidence interval for the population mean satisfaction score.\n"
   ]
  },
  {
   "cell_type": "code",
   "execution_count": 122,
   "id": "6dfab23c-e00a-4a56-b775-4a6dbbccfb37",
   "metadata": {},
   "outputs": [
    {
     "data": {
      "text/plain": [
       "(7.043561120599888, 8.756438879400113)"
      ]
     },
     "execution_count": 122,
     "metadata": {},
     "output_type": "execute_result"
    }
   ],
   "source": [
    "# Since the data is small (<30) we will be using the t-distribution to calculate the 95% confidence interval\n",
    "survey = [7, 9, 6, 8, 10, 7, 8, 9, 7, 8]\n",
    "stats.t.interval(alpha = .95 , df = len(survey)-1,\n",
    "                 loc = np.mean(survey),\n",
    "                 scale = stats.sem(survey))"
   ]
  },
  {
   "cell_type": "markdown",
   "id": "d49513ab-ca8a-401a-88e1-2a7bc87782be",
   "metadata": {},
   "source": [
    "### Q14\n",
    "Scenario: A company wants to analyze the effect of temperature on product performance. The data collected is as follows:\n",
    "\n",
    "Temperature (in degrees Celsius): [20, 22, 23, 19, 21]\n",
    "\n",
    "Performance (on a scale of 1 to 10): [8, 7, 9, 6, 8]\n",
    "\n",
    "Perform a simple linear regression to predict performance based on temperature.\n"
   ]
  },
  {
   "cell_type": "code",
   "execution_count": 123,
   "id": "87147eba-68b2-4d91-87fd-2f83eb213cde",
   "metadata": {},
   "outputs": [
    {
     "name": "stdout",
     "output_type": "stream",
     "text": [
      "The linear equation for prediction of Performance from Temperature by ordinary least squares is:\n",
      "Performance = 0.5* Temperature  -2.9000000000000004\n",
      "The p-values is: 0.19417134561205843\n"
     ]
    }
   ],
   "source": [
    "temp = [20, 22, 23, 19, 21]\n",
    "perf = [8, 7, 9, 6, 8]\n",
    "result = stats.linregress(temp,perf)\n",
    "print(\"The linear equation for prediction of Performance from Temperature by ordinary least squares is:\")\n",
    "print(f\"Performance = {result.slope}* Temperature  {result.intercept}\")\n",
    "print(f\"The p-values is: {result.pvalue}\")"
   ]
  },
  {
   "cell_type": "markdown",
   "id": "a7288935-e94e-4ab1-afee-362fc543c626",
   "metadata": {},
   "source": [
    "\n",
    "### Q15\n",
    "Scenario: A study is conducted to compare the preferences of two groups of participants. The preferences are measured on a Likert scale from 1 to 5. The data collected is as follows:\n",
    "    \n",
    "    Group A: [4, 3, 5, 2, 4]\n",
    "\n",
    "    Group B: [3, 2, 4, 3, 3]\n",
    "    \n",
    "    Perform a Mann-Whitney U test to determine if there is a significant difference in the median preferences between the two groups.\n"
   ]
  },
  {
   "cell_type": "code",
   "execution_count": 124,
   "id": "e1f68b0a-cbf2-44a6-9174-2aac2f32fe5a",
   "metadata": {},
   "outputs": [
    {
     "name": "stdout",
     "output_type": "stream",
     "text": [
      "P value is 0.380836480306712: Failed to reject Null hypothesis. There is no significant difference in the median preferences between the two groups\n"
     ]
    }
   ],
   "source": [
    "A = [4, 3, 5, 2, 4]\n",
    "B = [3, 2, 4, 3, 3]\n",
    "result = stats.mannwhitneyu(A, B)\n",
    "if result.pvalue < alpha: \n",
    "    print(f\"P value is {result.pvalue}: Null hypothesis rejected . There is a significant difference in the median preferences between the two groups.\")\n",
    "else:\n",
    "    print(f\"P value is {result.pvalue}: Failed to reject Null hypothesis. There is no significant difference in the median preferences between the two groups\")"
   ]
  },
  {
   "cell_type": "markdown",
   "id": "55d8b86a-47d3-4694-bef3-3f4f33028bbf",
   "metadata": {},
   "source": [
    "\n",
    "### Q16\n",
    "Scenario: A company wants to analyze the distribution of customer ages. The data collected is as follows:\n",
    "\n",
    "    [25, 30, 35, 40, 45, 50, 55, 60, 65, 70]\n",
    "    \n",
    "    Calculate the interquartile range (IQR) of the ages.\n",
    "\n"
   ]
  },
  {
   "cell_type": "code",
   "execution_count": 125,
   "id": "52e3342e-9ee5-408a-85e6-2b0bea5872f3",
   "metadata": {},
   "outputs": [
    {
     "name": "stdout",
     "output_type": "stream",
     "text": [
      "The IQR is: 20.0\n"
     ]
    }
   ],
   "source": [
    "age = [25, 30, 35, 40, 45, 50, 55, 60, 65, 70]\n",
    "print(f\"The IQR is: {stats.iqr(age , interpolation='midpoint')}\")"
   ]
  },
  {
   "cell_type": "markdown",
   "id": "29f63e1b-6606-49a2-bc07-364394faa1b3",
   "metadata": {},
   "source": [
    "### Q17\n",
    "Scenario: A study is conducted to compare the performance of three different machine learning algorithms. The accuracy scores for each algorithm are as follows:\n",
    "\n",
    "    Algorithm A: [0.85, 0.80, 0.82, 0.87, 0.83]\n",
    "    \n",
    "    Algorithm B: [0.78, 0.82, 0.84, 0.80, 0.79]\n",
    "    \n",
    "    Algorithm C: [0.90, 0.88, 0.89, 0.86, 0.87]\n",
    "    \n",
    "    Perform a Kruskal-Wallis test to determine if there is a significant difference in the median accuracy scores between the algorithms.\n",
    "\n"
   ]
  },
  {
   "cell_type": "code",
   "execution_count": 126,
   "id": "330ac979-e9d6-4c6f-8972-8599af65091c",
   "metadata": {},
   "outputs": [
    {
     "name": "stdout",
     "output_type": "stream",
     "text": [
      "P value is 0.007840333026249539: Null hypothesis rejected . There is a significant difference in the median accuracy scores between the algorithms.\n"
     ]
    }
   ],
   "source": [
    "A = [0.85, 0.80, 0.82, 0.87, 0.83]\n",
    "B = [0.78, 0.82, 0.84, 0.80, 0.79]\n",
    "C = [0.90, 0.88, 0.89, 0.86, 0.87]\n",
    "_ , p_val = stats.kruskal(A,B,C)\n",
    "alpha = 0.05\n",
    "if p_val < alpha: \n",
    "    print(f\"P value is {p_val}: Null hypothesis rejected . There is a significant difference in the median accuracy scores between the algorithms.\")\n",
    "else:\n",
    "    print(f\"P value is {p_val}: Failed to reject Null hypothesis. There is no significant difference in the median accuracy scores between the algorithms\")"
   ]
  },
  {
   "cell_type": "markdown",
   "id": "6e824414-21e2-4b13-b7f2-a270c83458c3",
   "metadata": {},
   "source": [
    "### Q18\n",
    "Scenario: A company wants to analyze the effect of price on sales. The data collected is as follows:\n",
    "\n",
    "    Price (in dollars): [10, 15, 12, 8, 14]\n",
    "    \n",
    "    Sales: [100, 80, 90, 110, 95]\n",
    "    \n",
    "    Perform a simple linear regression to predict sales based on price."
   ]
  },
  {
   "cell_type": "code",
   "execution_count": 127,
   "id": "001f5d68-c5c2-43a2-8cb3-c650140307f3",
   "metadata": {},
   "outputs": [
    {
     "name": "stdout",
     "output_type": "stream",
     "text": [
      "The linear equation for prediction of Sales from Price by ordinary least squares is:\n",
      "Sales = -3.506097560975609* Price +  136.3719512195122\n",
      "The p-values is: 0.03850178234753776\n"
     ]
    }
   ],
   "source": [
    "Price = [10, 15, 12, 8, 14]\n",
    "Sales = [100, 80, 90, 110, 95]\n",
    "result = stats.linregress(Price,Sales)\n",
    "print(\"The linear equation for prediction of Sales from Price by ordinary least squares is:\")\n",
    "print(f\"Sales = {result.slope}* Price +  {result.intercept}\")\n",
    "print(f\"The p-values is: {result.pvalue}\")"
   ]
  },
  {
   "cell_type": "markdown",
   "id": "cae4d234-0af0-4edb-9c8f-f8880f94c78b",
   "metadata": {},
   "source": [
    "### Q19\n",
    "Scenario: A survey is conducted to measure the satisfaction levels of customers with a new product. The data collected is as follows:\n",
    "\n",
    "[7, 8, 9, 6, 8, 7, 9, 7, 8, 7]\n",
    "\n",
    "Calculate the standard error of the mean satisfaction score.\n",
    "\n",
    "\n"
   ]
  },
  {
   "cell_type": "code",
   "execution_count": 128,
   "id": "ba6481e4-75c3-46fa-86d9-b89ea60fee66",
   "metadata": {},
   "outputs": [
    {
     "name": "stdout",
     "output_type": "stream",
     "text": [
      "The standard error of mean is : 0.30550504633038933\n"
     ]
    }
   ],
   "source": [
    "survey = [7, 8, 9, 6, 8, 7, 9, 7, 8, 7]\n",
    "print(f\"The standard error of mean is : {stats.sem(survey)}\")"
   ]
  },
  {
   "cell_type": "markdown",
   "id": "5cd29f80-f927-4869-8ed8-d637d577b4ce",
   "metadata": {},
   "source": [
    "### Q20\n",
    "Scenario: A company wants to analyze the relationship between advertising expenditure and sales. The data collected is as follows:\n",
    "\n",
    "Advertising Expenditure (in thousands): [10, 15, 12, 8, 14]\n",
    "\n",
    "Sales (in thousands): [25, 30, 28, 20, 26]\n",
    "\n",
    "Perform a multiple regression analysis to predict sales based on advertising expenditure.\n"
   ]
  },
  {
   "cell_type": "code",
   "execution_count": 129,
   "id": "42271d74-6b1e-49a0-9d1b-51af5534303f",
   "metadata": {},
   "outputs": [
    {
     "name": "stdout",
     "output_type": "stream",
     "text": [
      "The linear equation for prediction of Sales from Advertising Expenditure by ordinary least squares is:\n",
      "Sales = 1.1524390243902436 * Advertising Expenditure +   12.201219512195125\n",
      "The p-values is: 0.051583194188217135\n"
     ]
    }
   ],
   "source": [
    "ad_exp =  [10, 15, 12, 8, 14]\n",
    "sales =  [25, 30, 28, 20, 26]\n",
    "result = stats.linregress(ad_exp,sales)\n",
    "print(\"The linear equation for prediction of Sales from Advertising Expenditure by ordinary least squares is:\")\n",
    "print(f\"Sales = {result.slope} * Advertising Expenditure +   {result.intercept}\")\n",
    "print(f\"The p-values is: {result.pvalue}\")"
   ]
  }
 ],
 "metadata": {
  "kernelspec": {
   "display_name": "Python 3 (ipykernel)",
   "language": "python",
   "name": "python3"
  },
  "language_info": {
   "codemirror_mode": {
    "name": "ipython",
    "version": 3
   },
   "file_extension": ".py",
   "mimetype": "text/x-python",
   "name": "python",
   "nbconvert_exporter": "python",
   "pygments_lexer": "ipython3",
   "version": "3.10.8"
  }
 },
 "nbformat": 4,
 "nbformat_minor": 5
}
