{
 "cells": [
  {
   "cell_type": "markdown",
   "id": "5cd0c785-d63f-4be2-9a48-e8697be5d3a5",
   "metadata": {},
   "source": [
    "# Quiz 1 (for lecture 2) - Core Subject - Data Science "
   ]
  },
  {
   "cell_type": "markdown",
   "id": "acb458ce-8c5c-497f-a216-4cd432f16734",
   "metadata": {
    "tags": []
   },
   "source": [
    "### Q1.\n",
    "What is the output of the following code snippet?\n",
    "\n",
    "```python\n",
    "\n",
    "print(2 + 3 * 5)\n",
    "\n",
    "```\n",
    "\n",
    "\n",
    "a) 25    \n",
    "b) 17    \n",
    "c) 35    \n",
    "d) 21    "
   ]
  },
  {
   "cell_type": "code",
   "execution_count": 24,
   "id": "cc6eb8e1-81ac-414d-b9e2-0f7c2ba7cd9d",
   "metadata": {},
   "outputs": [
    {
     "name": "stdout",
     "output_type": "stream",
     "text": [
      "17\n"
     ]
    }
   ],
   "source": [
    "print (2+3*5)"
   ]
  },
  {
   "cell_type": "markdown",
   "id": "2f60932a-4ac2-4740-91a9-6bb7179b6992",
   "metadata": {},
   "source": [
    "### Q2.\n",
    "Which of the following is a valid Python variable name?\n",
    "\n",
    "\n",
    "2myVar\n",
    "\n",
    "\n",
    "my-var\n",
    "\n",
    "\n",
    "_myVar\n",
    "\n",
    "\n",
    "my Var"
   ]
  },
  {
   "cell_type": "code",
   "execution_count": 25,
   "id": "95af40f3-2ef7-415b-80ac-53f160a79db9",
   "metadata": {},
   "outputs": [],
   "source": [
    "'''\n",
    "2myVar is invalid because it starts with a number.\n",
    "my-var is invalid because it contains a hyphen.\n",
    "my Var is invalid because it has a space in the name.\n",
    "'''\n",
    "\n",
    "_myVar = 2 #example \n",
    "\n"
   ]
  },
  {
   "cell_type": "markdown",
   "id": "4487c317-1595-474c-8877-69aabe93dc20",
   "metadata": {},
   "source": [
    "### Q3.\n",
    "What will be the output of the following code snippet?\n",
    "\n",
    "```python\n",
    "\n",
    "my_list = [1, 2, 3, 4, 5]\n",
    "\n",
    "print(my_list[1:4])\n",
    "\n",
    "```\n",
    "\n",
    "\n",
    "[1, 2, 3, 4, 5]\n",
    "\n",
    "\n",
    "[2, 3, 4]\n",
    "\n",
    "\n",
    "[1, 2, 3]\n",
    "\n",
    "\n",
    "[3, 4, 5]\n"
   ]
  },
  {
   "cell_type": "code",
   "execution_count": 26,
   "id": "88308930-a364-48c6-9f57-eec523c6152a",
   "metadata": {},
   "outputs": [
    {
     "name": "stdout",
     "output_type": "stream",
     "text": [
      "[2, 3, 4]\n"
     ]
    }
   ],
   "source": [
    "my_list = [1, 2, 3, 4, 5]\n",
    "\n",
    "print(my_list[1:4])"
   ]
  },
  {
   "cell_type": "markdown",
   "id": "881f3551-5b9d-4e4f-ae73-faf96cb4ced3",
   "metadata": {},
   "source": [
    "### Q4.\n",
    "What is the output of the following code snippet?\n",
    "\n",
    "```python\n",
    "\n",
    "my_tuple = (1, 2, 3)\n",
    "\n",
    "my_tuple[1] = 4\n",
    "\n",
    "print(my_tuple)\n",
    "\n",
    "```\n",
    "\n",
    "\n",
    "(1, 2, 3)\n",
    "\n",
    "\n",
    "(4, 2, 3)\n",
    "\n",
    "\n",
    "(1, 4, 3)\n",
    "\n",
    "\n",
    "Error: Tuple object does not support item assignment"
   ]
  },
  {
   "cell_type": "code",
   "execution_count": 28,
   "id": "0d68b4e6-7421-41cf-a65a-f164c88a1b99",
   "metadata": {},
   "outputs": [
    {
     "ename": "TypeError",
     "evalue": "'tuple' object does not support item assignment",
     "output_type": "error",
     "traceback": [
      "\u001b[0;31m---------------------------------------------------------------------------\u001b[0m",
      "\u001b[0;31mTypeError\u001b[0m                                 Traceback (most recent call last)",
      "Cell \u001b[0;32mIn[28], line 3\u001b[0m\n\u001b[1;32m      1\u001b[0m my_tuple \u001b[38;5;241m=\u001b[39m (\u001b[38;5;241m1\u001b[39m, \u001b[38;5;241m2\u001b[39m, \u001b[38;5;241m3\u001b[39m)\n\u001b[0;32m----> 3\u001b[0m \u001b[43mmy_tuple\u001b[49m\u001b[43m[\u001b[49m\u001b[38;5;241;43m1\u001b[39;49m\u001b[43m]\u001b[49m \u001b[38;5;241m=\u001b[39m \u001b[38;5;241m4\u001b[39m\n\u001b[1;32m      5\u001b[0m \u001b[38;5;28mprint\u001b[39m(my_tuple)\n",
      "\u001b[0;31mTypeError\u001b[0m: 'tuple' object does not support item assignment"
     ]
    }
   ],
   "source": [
    "my_tuple = (1, 2, 3)\n",
    "\n",
    "my_tuple[1] = 4\n",
    "\n",
    "print(my_tuple)"
   ]
  },
  {
   "cell_type": "markdown",
   "id": "b22c8227-6f87-4e7a-829a-f825c54aacff",
   "metadata": {},
   "source": [
    "### Q5.\n",
    "What is the purpose of the `elif` keyword in an if-else statement?\n",
    "\n",
    "\n",
    " It is used to indicate the end of an if statement.\n",
    "\n",
    "\n",
    "It is used to specify the condition for the else block.\n",
    "\n",
    "\n",
    "It is used to chain multiple conditions after the initial if statement.\n",
    "\n",
    "\n",
    " It is used to handle exceptions within the if-else block."
   ]
  },
  {
   "cell_type": "code",
   "execution_count": 29,
   "id": "32a19b55-c9b5-49f6-85f6-0f8fcda8341a",
   "metadata": {},
   "outputs": [
    {
     "data": {
      "text/plain": [
       "' \\nANSWER IS:- \\nIt is used to chain multiple conditions after the initial if statement.\\n'"
      ]
     },
     "execution_count": 29,
     "metadata": {},
     "output_type": "execute_result"
    }
   ],
   "source": [
    "''' \n",
    "ANSWER IS:- \n",
    "It is used to chain multiple conditions after the initial if statement.\n",
    "'''"
   ]
  },
  {
   "cell_type": "markdown",
   "id": "1728a505-c36d-4cd4-b611-94668055a9eb",
   "metadata": {},
   "source": [
    "### Q6 \n",
    "What is the output of the following code snippet?\n",
    "\n",
    "```python\n",
    "\n",
    "print(\"Hello\" + 2)\n",
    "\n",
    "```\n",
    "\n",
    "\n",
    "Hello2\n",
    "\n",
    "\n",
    "Hello\n",
    "\n",
    "\n",
    "Error: unsupported operand type(s) for +: 'str' and 'int'\n",
    "\n",
    "\n",
    "Error: invalid syntax"
   ]
  },
  {
   "cell_type": "code",
   "execution_count": 30,
   "id": "2a32f471-5ed8-4119-87ce-c453db6ccbb3",
   "metadata": {},
   "outputs": [
    {
     "ename": "TypeError",
     "evalue": "can only concatenate str (not \"int\") to str",
     "output_type": "error",
     "traceback": [
      "\u001b[0;31m---------------------------------------------------------------------------\u001b[0m",
      "\u001b[0;31mTypeError\u001b[0m                                 Traceback (most recent call last)",
      "Cell \u001b[0;32mIn[30], line 1\u001b[0m\n\u001b[0;32m----> 1\u001b[0m \u001b[38;5;28mprint\u001b[39m(\u001b[38;5;124;43m\"\u001b[39;49m\u001b[38;5;124;43mHello\u001b[39;49m\u001b[38;5;124;43m\"\u001b[39;49m\u001b[43m \u001b[49m\u001b[38;5;241;43m+\u001b[39;49m\u001b[43m \u001b[49m\u001b[38;5;241;43m2\u001b[39;49m)\n",
      "\u001b[0;31mTypeError\u001b[0m: can only concatenate str (not \"int\") to str"
     ]
    }
   ],
   "source": [
    "print(\"Hello\" + 2)"
   ]
  },
  {
   "cell_type": "markdown",
   "id": "82817997-4167-47b6-a70a-f5428face747",
   "metadata": {},
   "source": [
    "### Q7\n",
    " Which of the following is the correct way to open a file named \"data.txt\" in read mode?\n",
    "\n",
    "\n",
    "file = open(\"data.txt\", \"read\")\n",
    "\n",
    "\n",
    "file = open(\"data.txt\", \"r\")\n",
    "\n",
    "\n",
    " file = open(\"data.txt\", \"w\")\n",
    "\n",
    "\n",
    " file = open(\"data.txt\", \"a\")"
   ]
  },
  {
   "cell_type": "code",
   "execution_count": 31,
   "id": "1723fedd-94e8-4431-b6d7-6cc7980223e5",
   "metadata": {},
   "outputs": [
    {
     "data": {
      "text/plain": [
       "'\\ncorrect ans:- \\nfile = open(\"data.txt\", \"r\")\\n\\n\\n\\n\\nIn Python, to open a file in read mode, you use the \"r\" mode specifier. Therefore, the correct way to open a file named \"data.txt\" in read mode is:\\n\\nfile = open(\"data.txt\", \"r\")\\n\\nOption A: file = open(\"data.txt\", \"read\") is incorrect because \"read\" is not a valid mode specifier in Python for opening a file.\\n\\nOption C: file = open(\"data.txt\", \"w\") is incorrect because \"w\" mode is used for opening a file in write mode, which will truncate the file if it already exists.\\n\\nOption D: file = open(\"data.txt\", \"a\") is incorrect because \"a\" mode is used for opening a file in append mode, which allows you to add data to the end of an existing file or create a new file if it doesn\\'t exist, \\nbut it doesn\\'t allow you to read the contents of the file.\\n\\n'"
      ]
     },
     "execution_count": 31,
     "metadata": {},
     "output_type": "execute_result"
    }
   ],
   "source": [
    "'''\n",
    "correct ans:- \n",
    "file = open(\"data.txt\", \"r\")\n",
    "\n",
    "\n",
    "\n",
    "\n",
    "In Python, to open a file in read mode, you use the \"r\" mode specifier. Therefore, the correct way to open a file named \"data.txt\" in read mode is:\n",
    "\n",
    "file = open(\"data.txt\", \"r\")\n",
    "\n",
    "Option A: file = open(\"data.txt\", \"read\") is incorrect because \"read\" is not a valid mode specifier in Python for opening a file.\n",
    "\n",
    "Option C: file = open(\"data.txt\", \"w\") is incorrect because \"w\" mode is used for opening a file in write mode, which will truncate the file if it already exists.\n",
    "\n",
    "Option D: file = open(\"data.txt\", \"a\") is incorrect because \"a\" mode is used for opening a file in append mode, which allows you to add data to the end of an existing file or create a new file if it doesn't exist, \n",
    "but it doesn't allow you to read the contents of the file.\n",
    "\n",
    "'''"
   ]
  },
  {
   "cell_type": "markdown",
   "id": "97a67f18-a9d1-482a-989f-bc88877f500f",
   "metadata": {},
   "source": [
    "### Q8\n",
    "What is the output of the following code snippet?\n",
    "\n",
    "```python\n",
    "\n",
    "my_dict = {\"name\": \"John\", \"age\": 25}\n",
    "\n",
    "print(len(my_dict))\n",
    "\n",
    "```\n",
    "\n",
    "\n",
    "2\n",
    "\n",
    "\n",
    "4\n",
    "\n",
    "\n",
    "Error: 'dict' object has no attribute 'len'\n",
    "\n",
    "\n",
    "Error: invalid syntaxmy_dict = {\"name\": \"John\", \"age\": 25}\n"
   ]
  },
  {
   "cell_type": "code",
   "execution_count": 32,
   "id": "568814d5-0946-44f8-82d3-0b79388a063e",
   "metadata": {},
   "outputs": [
    {
     "name": "stdout",
     "output_type": "stream",
     "text": [
      "2\n"
     ]
    }
   ],
   "source": [
    "my_dict = {\"name\": \"John\", \"age\": 25}\n",
    "\n",
    "print(len(my_dict))\n"
   ]
  },
  {
   "cell_type": "markdown",
   "id": "8bea6399-91ae-4e8e-ba01-515342906897",
   "metadata": {},
   "source": [
    "### Q9.\n",
    "What will be the output of the following code snippet?\n",
    "\n",
    "```python\n",
    "\n",
    "x = 5\n",
    "\n",
    "y = 2\n",
    "\n",
    "print(x // y)\n",
    "\n",
    "```\n",
    "\n",
    "\n",
    "2,5\n",
    "\n",
    "\n",
    "2\n",
    "\n",
    "\n",
    "2.0\n",
    "\n",
    "\n",
    "2.2"
   ]
  },
  {
   "cell_type": "code",
   "execution_count": 33,
   "id": "20bb0fa1-e5e6-4f9e-9b58-80eb8d409065",
   "metadata": {},
   "outputs": [
    {
     "name": "stdout",
     "output_type": "stream",
     "text": [
      "2\n"
     ]
    }
   ],
   "source": [
    "x = 5\n",
    "\n",
    "y = 2\n",
    "\n",
    "print(x // y)"
   ]
  },
  {
   "cell_type": "markdown",
   "id": "88cf5f54-1c56-4ed8-8108-ab825de64ac9",
   "metadata": {},
   "source": [
    "### Q10.\n",
    "Which of the following statements is true about a set in Python?\n",
    "\n",
    "\n",
    "A set can contain duplicate elements.\n",
    "\n",
    "\n",
    "A set maintains the order of elements as they are inserted.\n",
    "\n",
    "\n",
    "A set can only store numeric data types\n",
    "\n",
    "\n",
    "All are incorrect"
   ]
  },
  {
   "cell_type": "code",
   "execution_count": null,
   "id": "0dad0818-221e-4ff9-bff3-31f98cef0d75",
   "metadata": {},
   "outputs": [],
   "source": [
    "# all are incorrect"
   ]
  },
  {
   "cell_type": "markdown",
   "id": "4285ad65-63d7-4046-991b-d3adb4d9477d",
   "metadata": {},
   "source": [
    "### Q11\n",
    "What is the output of the following code snippet?\n",
    "\n",
    "```python\n",
    "\n",
    "my_list = [1, 2, 3]\n",
    "\n",
    "my_list.append([4, 5])\n",
    "\n",
    "print(len(my_list))\n",
    "\n",
    "```\n",
    "\n",
    "\n",
    "3\n",
    "\n",
    "\n",
    "4\n",
    "\n",
    "\n",
    "5\n",
    "\n",
    "\n",
    "6"
   ]
  },
  {
   "cell_type": "code",
   "execution_count": 34,
   "id": "02e1fdcc-4274-4589-8cc7-bc921d06a637",
   "metadata": {},
   "outputs": [
    {
     "name": "stdout",
     "output_type": "stream",
     "text": [
      "4\n"
     ]
    }
   ],
   "source": [
    "my_list = [1, 2, 3]\n",
    "\n",
    "my_list.append([4, 5])\n",
    "\n",
    "print(len(my_list))"
   ]
  },
  {
   "cell_type": "markdown",
   "id": "4960e220-b490-41f9-bd9d-3e36b7b12e32",
   "metadata": {},
   "source": [
    "### Q12\n",
    "What is the output of the following code snippet?\n",
    "\n",
    "```python\n",
    "\n",
    "x = \"Hello\"\n",
    "\n",
    "y = x.lower()\n",
    "\n",
    "print(y)\n",
    "\n",
    "```\n",
    "\n",
    "\n",
    "Hello\n",
    "\n",
    "\n",
    " HELLO\n",
    "\n",
    "\n",
    "hello\n",
    "\n",
    "\n",
    " Error: 'str' object has no attribute 'lower'"
   ]
  },
  {
   "cell_type": "code",
   "execution_count": 35,
   "id": "e38099c7-9ef8-4611-9ec6-db6aafafc127",
   "metadata": {},
   "outputs": [
    {
     "name": "stdout",
     "output_type": "stream",
     "text": [
      "hello\n"
     ]
    }
   ],
   "source": [
    "x = \"Hello\"\n",
    "\n",
    "y = x.lower()\n",
    "\n",
    "print(y)"
   ]
  },
  {
   "cell_type": "markdown",
   "id": "cd7a2e2a-0dc7-4c61-9727-db07316150ac",
   "metadata": {},
   "source": [
    "### Q13\n",
    "What is the purpose of the `pass` statement in Python?\n",
    "\n",
    "\n",
    "It is used to end the execution of a loop.\n",
    "\n",
    "\n",
    " It is used to skip the current iteration of a loop.\n",
    "\n",
    "\n",
    " It is used to raise an exception.\n",
    "\n",
    "\n",
    "It is used to indicate an empty code block"
   ]
  },
  {
   "cell_type": "code",
   "execution_count": 36,
   "id": "5a0300b8-8eff-418a-8f9d-c36cde31f74f",
   "metadata": {},
   "outputs": [],
   "source": [
    "# answer is:- It is used to indicate an empty code block"
   ]
  },
  {
   "cell_type": "markdown",
   "id": "47fe3109-2851-4665-849c-52195e52eac7",
   "metadata": {},
   "source": [
    "### Q14\n",
    "What is the output of the following code snippet?\n",
    "\n",
    "```python\n",
    "\n",
    "print(3 > 2 > 1)\n",
    "\n",
    "```\n",
    "\n",
    "\n",
    " True\n",
    "\n",
    "\n",
    " False\n",
    "\n",
    "\n",
    " Error: invalid syntax\n",
    "\n",
    "\n",
    "Error: 'bool' object is not callable"
   ]
  },
  {
   "cell_type": "code",
   "execution_count": 37,
   "id": "3d2f6730-abaa-4cd5-b42d-35467460f2cd",
   "metadata": {},
   "outputs": [
    {
     "name": "stdout",
     "output_type": "stream",
     "text": [
      "True\n"
     ]
    }
   ],
   "source": [
    "print(3 > 2 > 1)"
   ]
  },
  {
   "cell_type": "markdown",
   "id": "7b3b244d-e07b-4a7a-8e4c-0d6e5972c7ce",
   "metadata": {},
   "source": [
    "### Q15\n",
    "What will be the output of the following code snippet?\n",
    "\n",
    "```python\n",
    "\n",
    "x = [1, 2, 3]\n",
    "\n",
    "y = x\n",
    "\n",
    "y.append(4)\n",
    "\n",
    "print(x)\n",
    "\n",
    "```\n",
    "\n",
    "\n",
    " [1, 2, 3]\n",
    "\n",
    "\n",
    "[1, 2, 3, 4]\n",
    "\n",
    "\n",
    " [4, 1, 2, 3]\n",
    "\n",
    "\n",
    " Error: 'list' object has no attribute 'append'"
   ]
  },
  {
   "cell_type": "code",
   "execution_count": 16,
   "id": "70e89bcc-0c9f-445b-a127-cf43f4fb4ee2",
   "metadata": {},
   "outputs": [
    {
     "name": "stdout",
     "output_type": "stream",
     "text": [
      "[1, 2, 3, 4]\n"
     ]
    }
   ],
   "source": [
    "x = [1, 2, 3]\n",
    "\n",
    "y = x\n",
    "\n",
    "y.append(4)\n",
    "\n",
    "print(x)"
   ]
  },
  {
   "cell_type": "markdown",
   "id": "07b39954-ad59-44b0-b03d-40ac61d53f2f",
   "metadata": {},
   "source": [
    "print(\"Python\".find(\"th\"))\n",
    "0### Q16\n",
    "What is the output of the following code snippet?\n",
    "\n",
    "```python\n",
    "\n",
    "print(\"Python\".find(\"th\"))\n",
    "\n",
    "```\n",
    "\n",
    "\n",
    "0\n",
    "\n",
    "\n",
    "2\n",
    "\n",
    "\n",
    "3\n",
    "\n",
    "\n",
    "-1"
   ]
  },
  {
   "cell_type": "code",
   "execution_count": 17,
   "id": "a9e67b2d-ed63-48c5-beb5-87eeb209a1b2",
   "metadata": {},
   "outputs": [
    {
     "name": "stdout",
     "output_type": "stream",
     "text": [
      "2\n"
     ]
    }
   ],
   "source": [
    "print(\"Python\".find(\"th\"))\n"
   ]
  },
  {
   "cell_type": "markdown",
   "id": "14a57f3f-1e36-4a55-b55b-9d560b9c9621",
   "metadata": {},
   "source": [
    "### Q17\n",
    "What will be the output of the following code snippet?\n",
    "\n",
    "```python\n",
    "\n",
    "my_set = {1, 2, 3}\n",
    "\n",
    "my_set.add(4)\n",
    "\n",
    "print(len(my_set))\n",
    "\n",
    "```\n",
    "\n",
    "\n",
    "3\n",
    "\n",
    "\n",
    "4\n",
    "\n",
    "\n",
    "5\n",
    "\n",
    "\n",
    "Error: 'set' object has no attribute 'add"
   ]
  },
  {
   "cell_type": "code",
   "execution_count": 18,
   "id": "9a4b8589-c2f0-4494-9f02-fde03fc85be9",
   "metadata": {},
   "outputs": [
    {
     "name": "stdout",
     "output_type": "stream",
     "text": [
      "4\n"
     ]
    }
   ],
   "source": [
    "my_set = {1, 2, 3}\n",
    "\n",
    "my_set.add(4)\n",
    "\n",
    "print(len(my_set))"
   ]
  },
  {
   "cell_type": "markdown",
   "id": "7f340c6e-65ed-44b2-958e-79cbe1c9ecda",
   "metadata": {},
   "source": [
    "### Q18\n",
    "What is the output of the following code snippet?\n",
    "\n",
    "```python\n",
    "\n",
    "my_dict = {\"name\": \"John\", \"age\": 25}\n",
    "\n",
    "print(my_dict.get(\"city\"))\n",
    "\n",
    "```\n",
    "\n",
    "\n",
    "\"John\"\n",
    "\n",
    "\n",
    "25\n",
    "\n",
    "\n",
    "None\n",
    "\n",
    "\n",
    "Error: 'dict' object has no attribute 'get'"
   ]
  },
  {
   "cell_type": "code",
   "execution_count": 19,
   "id": "d96c6459-4121-41a4-8fa3-2b1b01c24199",
   "metadata": {},
   "outputs": [
    {
     "name": "stdout",
     "output_type": "stream",
     "text": [
      "None\n"
     ]
    }
   ],
   "source": [
    "my_dict = {\"name\": \"John\", \"age\": 25}\n",
    "\n",
    "print(my_dict.get(\"city\"))"
   ]
  },
  {
   "cell_type": "markdown",
   "id": "77fd5a3b-d63e-48a6-b629-bdab2b52c062",
   "metadata": {},
   "source": [
    "### Q19\n",
    "What will be the output of the following code snippet?\n",
    "\n",
    "```python\n",
    "\n",
    "x = [1, 2, 3]\n",
    "\n",
    "y = x.copy()\n",
    "\n",
    "y.append(4)\n",
    "\n",
    "print(x)\n",
    "\n",
    "```\n",
    "\n",
    "\n",
    " [1, 2, 3]\n",
    "\n",
    "\n",
    " [1, 2, 3, 4]\n",
    "\n",
    "\n",
    "[4, 1, 2, 3]\n",
    "\n",
    "\n",
    "Error: 'list' object has no attribute 'copy'"
   ]
  },
  {
   "cell_type": "code",
   "execution_count": 20,
   "id": "f801daa7-b73a-4b1a-b933-0e0c8a1644d3",
   "metadata": {},
   "outputs": [
    {
     "name": "stdout",
     "output_type": "stream",
     "text": [
      "[1, 2, 3]\n"
     ]
    }
   ],
   "source": [
    "x = [1, 2, 3]\n",
    "\n",
    "y = x.copy()\n",
    "\n",
    "y.append(4)\n",
    "\n",
    "print(x)"
   ]
  },
  {
   "cell_type": "markdown",
   "id": "f9fc40f4-6dcf-4e33-94fb-204dc6ba2cb9",
   "metadata": {},
   "source": [
    "### Q20\n",
    "What is the output of the following code snippet?\n",
    "\n",
    "```python\n",
    "\n",
    "my_tuple = (1, 2, 3, 4, 5)\n",
    "\n",
    "print(my_tuple[-2])\n",
    "\n",
    "```\n",
    "\n",
    "\n",
    "1\n",
    "\n",
    "\n",
    "2\n",
    "\n",
    "\n",
    "4\n",
    "\n",
    "\n",
    "5\n",
    "\n"
   ]
  },
  {
   "cell_type": "code",
   "execution_count": 21,
   "id": "4c49b43d-b006-4e9e-ac68-4773f700bb04",
   "metadata": {},
   "outputs": [
    {
     "name": "stdout",
     "output_type": "stream",
     "text": [
      "4\n"
     ]
    }
   ],
   "source": [
    "my_tuple = (1, 2, 3, 4, 5)\n",
    "\n",
    "print(my_tuple[-2])"
   ]
  }
 ],
 "metadata": {
  "kernelspec": {
   "display_name": "Python 3 (ipykernel)",
   "language": "python",
   "name": "python3"
  },
  "language_info": {
   "codemirror_mode": {
    "name": "ipython",
    "version": 3
   },
   "file_extension": ".py",
   "mimetype": "text/x-python",
   "name": "python",
   "nbconvert_exporter": "python",
   "pygments_lexer": "ipython3",
   "version": "3.10.8"
  }
 },
 "nbformat": 4,
 "nbformat_minor": 5
}
